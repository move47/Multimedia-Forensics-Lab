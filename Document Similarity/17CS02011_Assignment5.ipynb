{
  "nbformat": 4,
  "nbformat_minor": 0,
  "metadata": {
    "colab": {
      "name": "Document_Similarities.ipynb",
      "provenance": [],
      "collapsed_sections": [
        "J3H7zfoTodpF",
        "L7oG1uuGodpp"
      ]
    },
    "kernelspec": {
      "display_name": "Python 3",
      "language": "python",
      "name": "python3"
    },
    "language_info": {
      "codemirror_mode": {
        "name": "ipython",
        "version": 3
      },
      "file_extension": ".py",
      "mimetype": "text/x-python",
      "name": "python",
      "nbconvert_exporter": "python",
      "pygments_lexer": "ipython3",
      "version": "3.7.3"
    }
  },
  "cells": [
    {
      "cell_type": "code",
      "metadata": {
        "id": "nayjN8Vrodod"
      },
      "source": [
        "import pandas as pd\n",
        "import numpy as np\n",
        "from nltk.corpus import stopwords\n",
        "import nltk\n",
        "import re\n",
        "from sklearn.feature_extraction.text import TfidfVectorizer \n",
        "from sklearn.metrics.pairwise import cosine_similarity\n",
        "from sklearn.metrics.pairwise import euclidean_distances"
      ],
      "execution_count": null,
      "outputs": []
    },
    {
      "cell_type": "code",
      "metadata": {
        "id": "wv6pYEhdodoi"
      },
      "source": [
        "# Sample corpus\n",
        "documents = ['Machine learning is the study of computer algorithms that improve automatically through experience.\\\n",
        "Machine learning algorithms build a mathematical model based on sample data, known as training data.\\\n",
        "The discipline of machine learning employs various approaches to teach computers to accomplish tasks \\\n",
        "where no fully satisfactory algorithm is available.',\n",
        "'Machine learning is closely related to computational statistics, which focuses on making predictions using computers.\\\n",
        "The study of mathematical optimization delivers methods, theory and application domains to the field of machine learning.',\n",
        "'Machine learning involves computers discovering how they can perform tasks without being explicitly programmed to do so. \\\n",
        "It involves computers learning from data provided so that they carry out certain tasks.',\n",
        "'Machine learning approaches are traditionally divided into three broad categories, depending on the nature of the \"signal\"\\\n",
        "or \"feedback\" available to the learning system: Supervised, Unsupervised and Reinforcement',\n",
        "'Software engineering is the systematic application of engineering approaches to the development of software.\\\n",
        "Software engineering is a computing discipline.',\n",
        "'A software engineer creates programs based on logic for the computer to execute. A software engineer has to be more concerned\\\n",
        "about the correctness of the program in all the cases. Meanwhile, a data scientist is comfortable with uncertainty and variability.'\n",
        "]"
      ],
      "execution_count": null,
      "outputs": []
    },
    {
      "cell_type": "code",
      "metadata": {
        "id": "hZNxg33Yodok"
      },
      "source": [
        "pd.set_option('display.max_colwidth', 0)\n",
        "pd.set_option('display.max_columns', 0)"
      ],
      "execution_count": null,
      "outputs": []
    },
    {
      "cell_type": "code",
      "metadata": {
        "id": "4915Wqjiodon"
      },
      "source": [
        "documents_df=pd.DataFrame(documents,columns=['documents'])"
      ],
      "execution_count": null,
      "outputs": []
    },
    {
      "cell_type": "code",
      "metadata": {
        "colab": {
          "base_uri": "https://localhost:8080/"
        },
        "id": "RdjGLoXQM4Bs",
        "outputId": "7410e40c-d4b8-4b8e-8700-c0320afa01c5"
      },
      "source": [
        "import nltk\n",
        "nltk.download('stopwords')"
      ],
      "execution_count": null,
      "outputs": [
        {
          "output_type": "stream",
          "text": [
            "[nltk_data] Downloading package stopwords to /root/nltk_data...\n",
            "[nltk_data]   Package stopwords is already up-to-date!\n"
          ],
          "name": "stdout"
        },
        {
          "output_type": "execute_result",
          "data": {
            "text/plain": [
              "True"
            ]
          },
          "metadata": {
            "tags": []
          },
          "execution_count": 90
        }
      ]
    },
    {
      "cell_type": "markdown",
      "metadata": {
        "id": "obVfuYPFodop"
      },
      "source": [
        "### Corpus Dataframe"
      ]
    },
    {
      "cell_type": "code",
      "metadata": {
        "colab": {
          "base_uri": "https://localhost:8080/",
          "height": 324
        },
        "id": "r8QnxTXkodoq",
        "outputId": "571735d3-e2ec-4719-8deb-3d74178f34b5"
      },
      "source": [
        "documents_df"
      ],
      "execution_count": null,
      "outputs": [
        {
          "output_type": "execute_result",
          "data": {
            "text/html": [
              "<div>\n",
              "<style scoped>\n",
              "    .dataframe tbody tr th:only-of-type {\n",
              "        vertical-align: middle;\n",
              "    }\n",
              "\n",
              "    .dataframe tbody tr th {\n",
              "        vertical-align: top;\n",
              "    }\n",
              "\n",
              "    .dataframe thead th {\n",
              "        text-align: right;\n",
              "    }\n",
              "</style>\n",
              "<table border=\"1\" class=\"dataframe\">\n",
              "  <thead>\n",
              "    <tr style=\"text-align: right;\">\n",
              "      <th></th>\n",
              "      <th>documents</th>\n",
              "    </tr>\n",
              "  </thead>\n",
              "  <tbody>\n",
              "    <tr>\n",
              "      <th>0</th>\n",
              "      <td>Machine learning is the study of computer algorithms that improve automatically through experience.Machine learning algorithms build a mathematical model based on sample data, known as training data.The discipline of machine learning employs various approaches to teach computers to accomplish tasks where no fully satisfactory algorithm is available.</td>\n",
              "    </tr>\n",
              "    <tr>\n",
              "      <th>1</th>\n",
              "      <td>Machine learning is closely related to computational statistics, which focuses on making predictions using computers.The study of mathematical optimization delivers methods, theory and application domains to the field of machine learning.</td>\n",
              "    </tr>\n",
              "    <tr>\n",
              "      <th>2</th>\n",
              "      <td>Machine learning involves computers discovering how they can perform tasks without being explicitly programmed to do so. It involves computers learning from data provided so that they carry out certain tasks.</td>\n",
              "    </tr>\n",
              "    <tr>\n",
              "      <th>3</th>\n",
              "      <td>Machine learning approaches are traditionally divided into three broad categories, depending on the nature of the \"signal\"or \"feedback\" available to the learning system: Supervised, Unsupervised and Reinforcement</td>\n",
              "    </tr>\n",
              "    <tr>\n",
              "      <th>4</th>\n",
              "      <td>Software engineering is the systematic application of engineering approaches to the development of software.Software engineering is a computing discipline.</td>\n",
              "    </tr>\n",
              "    <tr>\n",
              "      <th>5</th>\n",
              "      <td>A software engineer creates programs based on logic for the computer to execute. A software engineer has to be more concernedabout the correctness of the program in all the cases. Meanwhile, a data scientist is comfortable with uncertainty and variability.</td>\n",
              "    </tr>\n",
              "  </tbody>\n",
              "</table>\n",
              "</div>"
            ],
            "text/plain": [
              "                                                                                                                                                                                                                                                                                                                                                         documents\n",
              "0  Machine learning is the study of computer algorithms that improve automatically through experience.Machine learning algorithms build a mathematical model based on sample data, known as training data.The discipline of machine learning employs various approaches to teach computers to accomplish tasks where no fully satisfactory algorithm is available.\n",
              "1  Machine learning is closely related to computational statistics, which focuses on making predictions using computers.The study of mathematical optimization delivers methods, theory and application domains to the field of machine learning.                                                                                                                 \n",
              "2  Machine learning involves computers discovering how they can perform tasks without being explicitly programmed to do so. It involves computers learning from data provided so that they carry out certain tasks.                                                                                                                                               \n",
              "3  Machine learning approaches are traditionally divided into three broad categories, depending on the nature of the \"signal\"or \"feedback\" available to the learning system: Supervised, Unsupervised and Reinforcement                                                                                                                                           \n",
              "4  Software engineering is the systematic application of engineering approaches to the development of software.Software engineering is a computing discipline.                                                                                                                                                                                                    \n",
              "5  A software engineer creates programs based on logic for the computer to execute. A software engineer has to be more concernedabout the correctness of the program in all the cases. Meanwhile, a data scientist is comfortable with uncertainty and variability.                                                                                               "
            ]
          },
          "metadata": {
            "tags": []
          },
          "execution_count": 91
        }
      ]
    },
    {
      "cell_type": "code",
      "metadata": {
        "id": "Cgea0X8Nodot"
      },
      "source": [
        "# removing special characters and stop words from the text\n",
        "stop_words_l=stopwords.words('english')\n",
        "documents_df['documents_cleaned']=documents_df.documents.apply(lambda x: \" \".join(re.sub(r'[^a-zA-Z]',' ',w).lower() for w in x.split() if re.sub(r'[^a-zA-Z]',' ',w).lower() not in stop_words_l) )\n"
      ],
      "execution_count": null,
      "outputs": []
    },
    {
      "cell_type": "markdown",
      "metadata": {
        "id": "M6cklpWTodow"
      },
      "source": [
        "#### Tf-idf vectors"
      ]
    },
    {
      "cell_type": "code",
      "metadata": {
        "id": "QKIsEwYYodow"
      },
      "source": [
        "tfidfvectoriser=TfidfVectorizer(max_features=64)\n",
        "tfidfvectoriser.fit(documents_df.documents_cleaned)\n",
        "tfidf_vectors=tfidfvectoriser.transform(documents_df.documents_cleaned)"
      ],
      "execution_count": null,
      "outputs": []
    },
    {
      "cell_type": "code",
      "metadata": {
        "colab": {
          "base_uri": "https://localhost:8080/"
        },
        "id": "uHOrtNQQodoz",
        "outputId": "be72f618-6f59-4b97-fb43-cb83b51c2b15"
      },
      "source": [
        "tfidf_vectors.shape"
      ],
      "execution_count": null,
      "outputs": [
        {
          "output_type": "execute_result",
          "data": {
            "text/plain": [
              "(6, 64)"
            ]
          },
          "metadata": {
            "tags": []
          },
          "execution_count": 94
        }
      ]
    },
    {
      "cell_type": "code",
      "metadata": {
        "colab": {
          "base_uri": "https://localhost:8080/",
          "height": 348
        },
        "id": "eMG-F3t_Mg5J",
        "outputId": "6545ebe6-4f73-462a-a9a7-8ea292df4f8e"
      },
      "source": [
        "# Every vector is already normalised to have unit L2 norm\n",
        "np.linalg.norm(tfidf_vectors[0],ord=2)"
      ],
      "execution_count": null,
      "outputs": [
        {
          "output_type": "error",
          "ename": "ValueError",
          "evalue": "ignored",
          "traceback": [
            "\u001b[0;31m---------------------------------------------------------------------------\u001b[0m",
            "\u001b[0;31mValueError\u001b[0m                                Traceback (most recent call last)",
            "\u001b[0;32m<ipython-input-114-cc192fe19f14>\u001b[0m in \u001b[0;36m<module>\u001b[0;34m()\u001b[0m\n\u001b[1;32m      1\u001b[0m \u001b[0;31m# Every vector is already normalised to have unit L2 norm\u001b[0m\u001b[0;34m\u001b[0m\u001b[0;34m\u001b[0m\u001b[0;34m\u001b[0m\u001b[0m\n\u001b[0;32m----> 2\u001b[0;31m \u001b[0mnp\u001b[0m\u001b[0;34m.\u001b[0m\u001b[0mlinalg\u001b[0m\u001b[0;34m.\u001b[0m\u001b[0mnorm\u001b[0m\u001b[0;34m(\u001b[0m\u001b[0mtfidf_vectors\u001b[0m\u001b[0;34m[\u001b[0m\u001b[0;36m0\u001b[0m\u001b[0;34m]\u001b[0m\u001b[0;34m,\u001b[0m\u001b[0mord\u001b[0m\u001b[0;34m=\u001b[0m\u001b[0;36m2\u001b[0m\u001b[0;34m)\u001b[0m\u001b[0;34m\u001b[0m\u001b[0;34m\u001b[0m\u001b[0m\n\u001b[0m",
            "\u001b[0;32m<__array_function__ internals>\u001b[0m in \u001b[0;36mnorm\u001b[0;34m(*args, **kwargs)\u001b[0m\n",
            "\u001b[0;32m/usr/local/lib/python3.7/dist-packages/numpy/linalg/linalg.py\u001b[0m in \u001b[0;36mnorm\u001b[0;34m(x, ord, axis, keepdims)\u001b[0m\n\u001b[1;32m   2609\u001b[0m         \u001b[0;32mreturn\u001b[0m \u001b[0mret\u001b[0m\u001b[0;34m\u001b[0m\u001b[0;34m\u001b[0m\u001b[0m\n\u001b[1;32m   2610\u001b[0m     \u001b[0;32melse\u001b[0m\u001b[0;34m:\u001b[0m\u001b[0;34m\u001b[0m\u001b[0;34m\u001b[0m\u001b[0m\n\u001b[0;32m-> 2611\u001b[0;31m         \u001b[0;32mraise\u001b[0m \u001b[0mValueError\u001b[0m\u001b[0;34m(\u001b[0m\u001b[0;34m\"Improper number of dimensions to norm.\"\u001b[0m\u001b[0;34m)\u001b[0m\u001b[0;34m\u001b[0m\u001b[0;34m\u001b[0m\u001b[0m\n\u001b[0m\u001b[1;32m   2612\u001b[0m \u001b[0;34m\u001b[0m\u001b[0m\n\u001b[1;32m   2613\u001b[0m \u001b[0;34m\u001b[0m\u001b[0m\n",
            "\u001b[0;31mValueError\u001b[0m: Improper number of dimensions to norm."
          ]
        }
      ]
    },
    {
      "cell_type": "code",
      "metadata": {
        "colab": {
          "base_uri": "https://localhost:8080/"
        },
        "id": "vn4mAPbzWq9X",
        "outputId": "a9ad84be-7c9d-44b3-fde7-afceace3a489"
      },
      "source": [
        "tfidf_vectors=tfidf_vectors.toarray()\n",
        "print (tfidf_vectors)"
      ],
      "execution_count": null,
      "outputs": [
        {
          "output_type": "stream",
          "text": [
            "[[0.19392675 0.38785349 0.         0.1342579  0.15902271 0.15902271\n",
            "  0.         0.19392675 0.         0.         0.         0.\n",
            "  0.         0.         0.15902271 0.1342579  0.         0.\n",
            "  0.         0.         0.26851579 0.15902271 0.         0.\n",
            "  0.         0.19392675 0.34514645 0.34514645 0.15902271 0.\n",
            "  0.19392675 0.         0.         0.         0.         0.\n",
            "  0.         0.         0.         0.         0.         0.\n",
            "  0.19392675 0.19392675 0.         0.         0.         0.\n",
            "  0.         0.15902271 0.         0.         0.         0.15902271\n",
            "  0.19392675 0.15902271 0.         0.         0.         0.19392675\n",
            "  0.         0.         0.         0.        ]\n",
            " [0.         0.         0.21927835 0.         0.         0.\n",
            "  0.         0.         0.         0.         0.         0.26740796\n",
            "  0.         0.26740796 0.         0.18512985 0.         0.\n",
            "  0.         0.         0.         0.         0.         0.\n",
            "  0.         0.         0.31728443 0.31728443 0.21927835 0.\n",
            "  0.         0.         0.26740796 0.         0.         0.26740796\n",
            "  0.         0.         0.         0.         0.         0.26740796\n",
            "  0.         0.         0.         0.         0.         0.\n",
            "  0.26740796 0.21927835 0.         0.         0.         0.\n",
            "  0.         0.21927835 0.26740796 0.         0.         0.\n",
            "  0.         0.         0.26740796 0.        ]\n",
            " [0.         0.         0.         0.         0.         0.\n",
            "  0.         0.         0.24364199 0.         0.24364199 0.\n",
            "  0.         0.         0.         0.33735275 0.         0.\n",
            "  0.         0.         0.16867638 0.         0.         0.\n",
            "  0.48728398 0.         0.28908568 0.14454284 0.         0.\n",
            "  0.         0.         0.         0.         0.24364199 0.\n",
            "  0.         0.24364199 0.         0.24364199 0.         0.\n",
            "  0.         0.         0.         0.         0.24364199 0.\n",
            "  0.         0.         0.         0.         0.         0.39957983\n",
            "  0.         0.         0.         0.         0.         0.\n",
            "  0.         0.         0.         0.        ]\n",
            " [0.         0.         0.         0.19266984 0.22820915 0.\n",
            "  0.27829898 0.         0.         0.         0.         0.\n",
            "  0.         0.         0.         0.         0.         0.\n",
            "  0.         0.         0.         0.         0.         0.\n",
            "  0.         0.         0.33020683 0.16510342 0.         0.\n",
            "  0.         0.27829898 0.         0.27829898 0.         0.\n",
            "  0.         0.         0.         0.         0.27829898 0.\n",
            "  0.         0.         0.         0.27829898 0.         0.\n",
            "  0.         0.         0.27829898 0.27829898 0.         0.\n",
            "  0.         0.         0.         0.27829898 0.27829898 0.\n",
            "  0.         0.27829898 0.         0.        ]\n",
            " [0.         0.         0.18874131 0.15934838 0.         0.\n",
            "  0.         0.         0.         0.         0.         0.\n",
            "  0.         0.         0.         0.         0.23016832 0.\n",
            "  0.         0.         0.         0.18874131 0.         0.69050495\n",
            "  0.         0.         0.         0.         0.         0.\n",
            "  0.         0.         0.         0.         0.         0.\n",
            "  0.         0.         0.         0.         0.         0.\n",
            "  0.         0.         0.         0.         0.         0.56622393\n",
            "  0.         0.         0.         0.         0.23016832 0.\n",
            "  0.         0.         0.         0.         0.         0.\n",
            "  0.         0.         0.         0.        ]\n",
            " [0.         0.         0.         0.         0.         0.18563082\n",
            "  0.         0.         0.         0.2263751  0.         0.\n",
            "  0.2263751  0.         0.18563082 0.         0.         0.2263751\n",
            "  0.2263751  0.2263751  0.1567223  0.         0.45275021 0.\n",
            "  0.         0.         0.         0.         0.         0.2263751\n",
            "  0.         0.         0.         0.         0.         0.\n",
            "  0.2263751  0.         0.2263751  0.         0.         0.\n",
            "  0.         0.         0.2263751  0.         0.         0.37126165\n",
            "  0.         0.         0.         0.         0.         0.\n",
            "  0.         0.         0.         0.         0.         0.\n",
            "  0.2263751  0.         0.         0.2263751 ]]\n"
          ],
          "name": "stdout"
        }
      ]
    },
    {
      "cell_type": "code",
      "metadata": {
        "colab": {
          "base_uri": "https://localhost:8080/"
        },
        "id": "0ZfJLWirodo2",
        "outputId": "c623a0fd-48e1-471f-95de-4ff61d4f2df4"
      },
      "source": [
        "#tfidf_vectors=tfidf_vectors.toarray()\n",
        "print (tfidf_vectors[0])\n",
        "print(tfidf_vectors.shape)"
      ],
      "execution_count": null,
      "outputs": [
        {
          "output_type": "stream",
          "text": [
            "[0.19392675 0.38785349 0.         0.1342579  0.15902271 0.15902271\n",
            " 0.         0.19392675 0.         0.         0.         0.\n",
            " 0.         0.         0.15902271 0.1342579  0.         0.\n",
            " 0.         0.         0.26851579 0.15902271 0.         0.\n",
            " 0.         0.19392675 0.34514645 0.34514645 0.15902271 0.\n",
            " 0.19392675 0.         0.         0.         0.         0.\n",
            " 0.         0.         0.         0.         0.         0.\n",
            " 0.19392675 0.19392675 0.         0.         0.         0.\n",
            " 0.         0.15902271 0.         0.         0.         0.15902271\n",
            " 0.19392675 0.15902271 0.         0.         0.         0.19392675\n",
            " 0.         0.         0.         0.        ]\n",
            "(6, 64)\n"
          ],
          "name": "stdout"
        }
      ]
    },
    {
      "cell_type": "markdown",
      "metadata": {
        "id": "xvB33Dg6odo4"
      },
      "source": [
        "##### Every document has been converted into a 64 dimensional vector. As we set the max_features=64"
      ]
    },
    {
      "cell_type": "markdown",
      "metadata": {
        "id": "GguRnIYsodo4"
      },
      "source": [
        "### Pairwise similarity\n",
        "\n",
        "##### Pairwise cosine similarity would just be the dot product of the vectors becasue tf-idf vectors from sklearn are already normalized and L2 norm of these vectors is 1. So denominator of cosine similiarity formula is 1 in this case."
      ]
    },
    {
      "cell_type": "code",
      "metadata": {
        "id": "1GFWHXK1odo5"
      },
      "source": [
        "pairwise_similarities_1=np.dot(tfidf_vectors,tfidf_vectors.T)\n",
        "pairwise_differences_1=euclidean_distances(tfidf_vectors)"
      ],
      "execution_count": null,
      "outputs": []
    },
    {
      "cell_type": "code",
      "metadata": {
        "colab": {
          "base_uri": "https://localhost:8080/"
        },
        "id": "zOFiIAfRodo7",
        "outputId": "9c45e5cd-213c-4456-f3f7-951b4d15de15"
      },
      "source": [
        "print (tfidf_vectors[0])\n",
        "print (pairwise_similarities_1.shape)\n",
        "print(pairwise_similarities_1)\n",
        "print (pairwise_similarities_1[0][:])"
      ],
      "execution_count": null,
      "outputs": [
        {
          "output_type": "stream",
          "text": [
            "[0.19392675 0.38785349 0.         0.1342579  0.15902271 0.15902271\n",
            " 0.         0.19392675 0.         0.         0.         0.\n",
            " 0.         0.         0.15902271 0.1342579  0.         0.\n",
            " 0.         0.         0.26851579 0.15902271 0.         0.\n",
            " 0.         0.19392675 0.34514645 0.34514645 0.15902271 0.\n",
            " 0.19392675 0.         0.         0.         0.         0.\n",
            " 0.         0.         0.         0.         0.         0.\n",
            " 0.19392675 0.19392675 0.         0.         0.         0.\n",
            " 0.         0.15902271 0.         0.         0.         0.15902271\n",
            " 0.19392675 0.15902271 0.         0.         0.         0.19392675\n",
            " 0.         0.         0.         0.        ]\n",
            "(6, 6)\n",
            "[[1.         0.34848505 0.30379215 0.23311246 0.05140793 0.10112144]\n",
            " [0.34848505 1.         0.20003764 0.15715423 0.04138688 0.        ]\n",
            " [0.30379215 0.20003764 1.         0.11932258 0.         0.02643535]\n",
            " [0.23311246 0.15715423 0.11932258 1.         0.03070163 0.        ]\n",
            " [0.05140793 0.04138688 0.         0.03070163 1.         0.21021723]\n",
            " [0.10112144 0.         0.02643535 0.         0.21021723 1.        ]]\n",
            "[1.         0.34848505 0.30379215 0.23311246 0.05140793 0.10112144]\n"
          ],
          "name": "stdout"
        }
      ]
    },
    {
      "cell_type": "code",
      "metadata": {
        "colab": {
          "base_uri": "https://localhost:8080/"
        },
        "id": "YHsWuLH6puJz",
        "outputId": "f44b4b52-99a5-44e2-e267-d25b3e34389a"
      },
      "source": [
        "from sklearn.preprocessing import normalize\n",
        "print(pairwise_differences_1)\n",
        "normed_matrix_1 = normalize(pairwise_differences_1, axis=1, norm='l1')\n",
        "print(normed_matrix_1)"
      ],
      "execution_count": null,
      "outputs": [
        {
          "output_type": "stream",
          "text": [
            "[[0.         1.14150335 1.18000665 1.23845674 1.37738307 1.34080465]\n",
            " [1.14150335 0.         1.2648813  1.29834184 1.38463939 1.41421356]\n",
            " [1.18000665 1.2648813  0.         1.32716044 1.41421356 1.39539575]\n",
            " [1.23845674 1.29834184 1.32716044 0.         1.392335   1.41421356]\n",
            " [1.37738307 1.38463939 1.41421356 1.392335   0.         1.25680768]\n",
            " [1.34080465 1.41421356 1.39539575 1.41421356 1.25680768 0.        ]]\n",
            "[[0.         0.18182148 0.18795438 0.19726446 0.21939299 0.21356669]\n",
            " [0.17551924 0.         0.19449002 0.19963496 0.2129042  0.21745157]\n",
            " [0.17928715 0.19218278 0.         0.20164531 0.21487194 0.21201281]\n",
            " [0.18566154 0.19463914 0.19895944 0.         0.20872999 0.21200989]\n",
            " [0.20180317 0.20286631 0.20719928 0.20399381 0.         0.18413743]\n",
            " [0.19655756 0.20731906 0.20456043 0.20731906 0.18424388 0.        ]]\n"
          ],
          "name": "stdout"
        }
      ]
    },
    {
      "cell_type": "code",
      "metadata": {
        "id": "bkgftNHxrjcr"
      },
      "source": [
        "import matplotlib.pyplot as plt\n",
        "def plot(dist1,dist2,figname):\n",
        "  plt.rcParams[\"figure.figsize\"] = 15, 5\n",
        "  main_title = ['Cosine Similarity','Euclidean Distance']\n",
        "  fig, ax = plt.subplots(ncols=2)\n",
        "  for i in range(0,2):\n",
        "    if i==0:\n",
        "      ax[i] = sns.heatmap(dist1, cmap=\"YlGnBu\")\n",
        "      #ax[i].set_ylabel('Count')\n",
        "    elif i==1:\n",
        "      ax[i] = sns.heatmap(dist2, cmap=\"YlGnBu\")\n",
        "    ax[i].set_title('{}'.format(main_title[i]))\n",
        "      #ax[i].set_xticks(x)\n",
        "      #ax[i].set_xticklabels(labels)\n",
        "      #ax.legend()\n",
        "    #ax[i].legend(loc=\"center\")\n",
        "    # for i in range(0,len(final_count_ranges)):\n",
        "    # rects = ax.bar(x+z[i],final_count_ranges[i],0.3,label=i)\n",
        "    # ax.bar_label(rects, padding=1)\n",
        "    #   axes[i].set_title(title[i])\n",
        "    #   axes[i].plot([1,2,3],[2,3,1], \"b-\", label=\"blue\")\n",
        "    #   axes[i].plot([1,2,3],[1,2,1], \"r-\", label=\"red\")\n",
        "    #   axes[i].legend(loc=\"center\", bbox_to_anchor=(0.6,0.5))\n",
        "    #   axes[i].scatter((0.6),(0.5), s=81, c=\"limegreen\", transform=ax.transAxes)\n",
        "\n",
        "  #plt.tight_layout()\n",
        "  plt.savefig('{}.svg'.format(figname))    \n",
        "  plt.show()"
      ],
      "execution_count": null,
      "outputs": []
    },
    {
      "cell_type": "code",
      "metadata": {
        "colab": {
          "base_uri": "https://localhost:8080/",
          "height": 336
        },
        "id": "qEVOYKMss-Wq",
        "outputId": "9ef446f0-cd25-463c-e7e8-e6ad915846ae"
      },
      "source": [
        "plot(pairwise_similarities_1,normed_matrix_1,1)"
      ],
      "execution_count": null,
      "outputs": [
        {
          "output_type": "display_data",
          "data": {
            "image/png": "[encoded data removed]",
            "text/plain": [
              "<Figure size 1080x360 with 4 Axes>"
            ]
          },
          "metadata": {
            "tags": [],
            "needs_background": "light"
          }
        }
      ]
    },
    {
      "cell_type": "code",
      "metadata": {
        "id": "UbHcpezjrbJI"
      },
      "source": [
        "import matplotlib.pyplot as plt"
      ],
      "execution_count": null,
      "outputs": []
    },
    {
      "cell_type": "code",
      "metadata": {
        "colab": {
          "base_uri": "https://localhost:8080/",
          "height": 324
        },
        "id": "E1VHqLbWPAGS",
        "outputId": "35c681d5-ee3b-45eb-de33-e017d63666b9"
      },
      "source": [
        "import seaborn as sns\n",
        "import matplotlib.pyplot as plt\n",
        "fig, ax = plt.subplots(figsize=(5,5)) \n",
        "ax_blue = sns.heatmap(pairwise_similarities_1, cmap=\"YlGnBu\")"
      ],
      "execution_count": null,
      "outputs": [
        {
          "output_type": "display_data",
          "data": {
            "image/png": "[encoded data removed]",
            "text/plain": [
              "<Figure size 360x360 with 2 Axes>"
            ]
          },
          "metadata": {
            "tags": [],
            "needs_background": "light"
          }
        }
      ]
    },
    {
      "cell_type": "code",
      "metadata": {
        "colab": {
          "base_uri": "https://localhost:8080/",
          "height": 320
        },
        "id": "CZCiqCKEjatJ",
        "outputId": "518bc668-23e8-48d6-f5ab-82259ca57b8b"
      },
      "source": [
        "import seaborn as sns\n",
        "import matplotlib.pyplot as plt\n",
        "fig, ax = plt.subplots(figsize=(5,5)) \n",
        "ax_blue = sns.heatmap(normed_matrix_1, cmap=\"YlGnBu\")"
      ],
      "execution_count": null,
      "outputs": [
        {
          "output_type": "display_data",
          "data": {
            "image/png": "[encoded data removed]",
            "text/plain": [
              "<Figure size 360x360 with 2 Axes>"
            ]
          },
          "metadata": {
            "tags": [],
            "needs_background": "light"
          }
        }
      ]
    },
    {
      "cell_type": "markdown",
      "metadata": {
        "id": "x8oqU9Mwodo-"
      },
      "source": [
        "##### similarity is highest, 1 at index 0 becasue they are the same documents"
      ]
    },
    {
      "cell_type": "code",
      "metadata": {
        "id": "m487mu9_odo-"
      },
      "source": [
        "def most_similar(doc_id,similarity_matrix,matrix):\n",
        "    print (f'Document: {documents_df.iloc[doc_id][\"documents\"]}')\n",
        "    print ('\\n')\n",
        "    print (f'Similar Documents using {matrix}:')\n",
        "    if matrix=='Cosine Similarity':\n",
        "        similar_ix=np.argsort(similarity_matrix[doc_id])[::-1]\n",
        "    elif matrix=='Euclidean Distance':\n",
        "        similar_ix=np.argsort(similarity_matrix[doc_id])\n",
        "    for ix in similar_ix:\n",
        "        if ix==doc_id:\n",
        "            continue\n",
        "        print('\\n')\n",
        "        print (f'Document: {documents_df.iloc[ix][\"documents\"]}')\n",
        "        print (f'{matrix} : {similarity_matrix[doc_id][ix]}')"
      ],
      "execution_count": null,
      "outputs": []
    },
    {
      "cell_type": "code",
      "metadata": {
        "colab": {
          "base_uri": "https://localhost:8080/"
        },
        "id": "OJsEh4QaodpA",
        "outputId": "24d4a2b2-7289-4c79-f66c-d65bb4ed951f"
      },
      "source": [
        "most_similar(0,pairwise_similarities,'Cosine Similarity')"
      ],
      "execution_count": null,
      "outputs": [
        {
          "output_type": "stream",
          "text": [
            "Document: Machine learning is the study of computer algorithms that improve automatically through experience.Machine learning algorithms build a mathematical model based on sample data, known as training data.The discipline of machine learning employs various approaches to teach computers to accomplish tasks where no fully satisfactory algorithm is available.\n",
            "\n",
            "\n",
            "Similar Documents using Cosine Similarity:\n",
            "\n",
            "\n",
            "Document: Machine learning is closely related to computational statistics, which focuses on making predictions using computers.The study of mathematical optimization delivers methods, theory and application domains to the field of machine learning.\n",
            "Cosine Similarity : 0.34848504631157373\n",
            "\n",
            "\n",
            "Document: Machine learning involves computers discovering how they can perform tasks without being explicitly programmed to do so. It involves computers learning from data provided so that they carry out certain tasks.\n",
            "Cosine Similarity : 0.3037921506235846\n",
            "\n",
            "\n",
            "Document: Machine learning approaches are traditionally divided into three broad categories, depending on the nature of the \"signal\"or \"feedback\" available to the learning system: Supervised, Unsupervised and Reinforcement\n",
            "Cosine Similarity : 0.23311245618764465\n",
            "\n",
            "\n",
            "Document: A software engineer creates programs based on logic for the computer to execute. A software engineer has to be more concernedabout the correctness of the program in all the cases. Meanwhile, a data scientist is comfortable with uncertainty and variability.\n",
            "Cosine Similarity : 0.10112144276785177\n",
            "\n",
            "\n",
            "Document: Software engineering is the systematic application of engineering approaches to the development of software.Software engineering is a computing discipline.\n",
            "Cosine Similarity : 0.051407932674197854\n"
          ],
          "name": "stdout"
        }
      ]
    },
    {
      "cell_type": "code",
      "metadata": {
        "colab": {
          "base_uri": "https://localhost:8080/"
        },
        "id": "KwNyW4XqodpD",
        "outputId": "123bc2a5-9764-44ca-e639-9960d21689ed"
      },
      "source": [
        "most_similar(0,pairwise_differences,'Euclidean Distance')"
      ],
      "execution_count": null,
      "outputs": [
        {
          "output_type": "stream",
          "text": [
            "Document: Machine learning is the study of computer algorithms that improve automatically through experience.Machine learning algorithms build a mathematical model based on sample data, known as training data.The discipline of machine learning employs various approaches to teach computers to accomplish tasks where no fully satisfactory algorithm is available.\n",
            "\n",
            "\n",
            "Similar Documents using Euclidean Distance:\n",
            "\n",
            "\n",
            "Document: Machine learning is closely related to computational statistics, which focuses on making predictions using computers.The study of mathematical optimization delivers methods, theory and application domains to the field of machine learning.\n",
            "Euclidean Distance : 1.1415033540804216\n",
            "\n",
            "\n",
            "Document: Machine learning involves computers discovering how they can perform tasks without being explicitly programmed to do so. It involves computers learning from data provided so that they carry out certain tasks.\n",
            "Euclidean Distance : 1.1800066519951617\n",
            "\n",
            "\n",
            "Document: Machine learning approaches are traditionally divided into three broad categories, depending on the nature of the \"signal\"or \"feedback\" available to the learning system: Supervised, Unsupervised and Reinforcement\n",
            "Euclidean Distance : 1.2384567362749135\n",
            "\n",
            "\n",
            "Document: A software engineer creates programs based on logic for the computer to execute. A software engineer has to be more concernedabout the correctness of the program in all the cases. Meanwhile, a data scientist is comfortable with uncertainty and variability.\n",
            "Euclidean Distance : 1.3408046518655492\n",
            "\n",
            "\n",
            "Document: Software engineering is the systematic application of engineering approaches to the development of software.Software engineering is a computing discipline.\n",
            "Euclidean Distance : 1.3773830747659144\n"
          ],
          "name": "stdout"
        }
      ]
    },
    {
      "cell_type": "markdown",
      "metadata": {
        "id": "J3H7zfoTodpF"
      },
      "source": [
        "#### word2vec embeddings"
      ]
    },
    {
      "cell_type": "code",
      "metadata": {
        "colab": {
          "base_uri": "https://localhost:8080/"
        },
        "id": "pEbPb6BJodpF",
        "outputId": "0c6bbb5d-5c07-4a54-eb48-759753938455"
      },
      "source": [
        "from keras.preprocessing.text import Tokenizer\n",
        "import gensim\n",
        "from keras.preprocessing.sequence import pad_sequences\n",
        "from nltk.tokenize import word_tokenize\n",
        "import nltk\n",
        "nltk.download('punkt')"
      ],
      "execution_count": null,
      "outputs": [
        {
          "output_type": "stream",
          "text": [
            "[nltk_data] Downloading package punkt to /root/nltk_data...\n",
            "[nltk_data]   Package punkt is already up-to-date!\n"
          ],
          "name": "stdout"
        },
        {
          "output_type": "execute_result",
          "data": {
            "text/plain": [
              "True"
            ]
          },
          "metadata": {
            "tags": []
          },
          "execution_count": 114
        }
      ]
    },
    {
      "cell_type": "code",
      "metadata": {
        "colab": {
          "base_uri": "https://localhost:8080/"
        },
        "id": "cHlL6XtFodpI",
        "outputId": "800985fa-d0d6-4614-90c5-6a2c977fe614"
      },
      "source": [
        "# tokenize and pad every document to make them of the same size\n",
        "tokenizer=Tokenizer()\n",
        "tokenizer.fit_on_texts(documents_df.documents_cleaned)\n",
        "tokenized_documents=tokenizer.texts_to_sequences(documents_df.documents_cleaned)\n",
        "tokenized_paded_documents=pad_sequences(tokenized_documents,maxlen=64,padding='post')\n",
        "vocab_size=len(tokenizer.word_index)+1\n",
        "\n",
        "print (tokenized_paded_documents[0])"
      ],
      "execution_count": null,
      "outputs": [
        {
          "output_type": "stream",
          "text": [
            "[ 2  1  9 10 11 20 21 22  2  1 11 23 12 24 13 25  4 26 27  4 14 15  2  1\n",
            " 28 29  6 30  5 31  7 32 33 34 16  0  0  0  0  0  0  0  0  0  0  0  0  0\n",
            "  0  0  0  0  0  0  0  0  0  0  0  0  0  0  0  0]\n"
          ],
          "name": "stdout"
        }
      ]
    },
    {
      "cell_type": "code",
      "metadata": {
        "colab": {
          "base_uri": "https://localhost:8080/"
        },
        "id": "QPV8ew6BRCee",
        "outputId": "8fd95783-005b-4052-dc9d-64d1a7584aba"
      },
      "source": [
        "!wget -c \"https://s3.amazonaws.com/dl4j-distribution/GoogleNews-vectors-negative300.bin.gz\""
      ],
      "execution_count": null,
      "outputs": [
        {
          "output_type": "stream",
          "text": [
            "--2021-04-25 14:31:54--  https://s3.amazonaws.com/dl4j-distribution/GoogleNews-vectors-negative300.bin.gz\n",
            "Resolving s3.amazonaws.com (s3.amazonaws.com)... 54.231.114.100\n",
            "Connecting to s3.amazonaws.com (s3.amazonaws.com)|54.231.114.100|:443... connected.\n",
            "HTTP request sent, awaiting response... 200 OK\n",
            "Length: 1647046227 (1.5G) [application/x-gzip]\n",
            "Saving to: ‘GoogleNews-vectors-negative300.bin.gz’\n",
            "\n",
            "GoogleNews-vectors- 100%[===================>]   1.53G  91.2MB/s    in 17s     \n",
            "\n",
            "2021-04-25 14:32:11 (93.4 MB/s) - ‘GoogleNews-vectors-negative300.bin.gz’ saved [1647046227/1647046227]\n",
            "\n"
          ],
          "name": "stdout"
        }
      ]
    },
    {
      "cell_type": "code",
      "metadata": {
        "colab": {
          "base_uri": "https://localhost:8080/"
        },
        "id": "Rsl692tFRXBt",
        "outputId": "cce25bea-5deb-4452-846f-4be90259b00d"
      },
      "source": [
        "!ls"
      ],
      "execution_count": null,
      "outputs": [
        {
          "output_type": "stream",
          "text": [
            "GoogleNews-vectors-negative300.bin.gz  sample_data\n"
          ],
          "name": "stdout"
        }
      ]
    },
    {
      "cell_type": "code",
      "metadata": {
        "id": "SA2tdICzodpL"
      },
      "source": [
        "# loading pre-trained embeddings, each word is represented as a 300 dimensional vector\n",
        "\n",
        "# rom gensim import models\n",
        "from gensim import models\n",
        "\n",
        "model_w2v = models.KeyedVectors.load_word2vec_format('./GoogleNews-vectors-negative300.bin.gz', binary=True)\n",
        "#model_w2v = gensim.models.KeyedVectors.load_word2vec_format(W2V_PATH, binary=True)"
      ],
      "execution_count": null,
      "outputs": []
    },
    {
      "cell_type": "code",
      "metadata": {
        "id": "POofZ14codpO"
      },
      "source": [
        "# creating embedding matrix, every row is a vector representation from the vocabulary indexed by the tokenizer index. \n",
        "embedding_matrix=np.zeros((vocab_size,300))\n",
        "for word,i in tokenizer.word_index.items():\n",
        "    if word in model_w2v:\n",
        "        embedding_matrix[i]=model_w2v[word]"
      ],
      "execution_count": null,
      "outputs": []
    },
    {
      "cell_type": "code",
      "metadata": {
        "colab": {
          "base_uri": "https://localhost:8080/"
        },
        "id": "Xstx71L9odpR",
        "outputId": "a1cfb2d3-4200-423f-d243-a2dcedd6f148"
      },
      "source": [
        "embedding_matrix[0]"
      ],
      "execution_count": null,
      "outputs": [
        {
          "output_type": "execute_result",
          "data": {
            "text/plain": [
              "array([0., 0., 0., 0., 0., 0., 0., 0., 0., 0., 0., 0., 0., 0., 0., 0., 0.,\n",
              "       0., 0., 0., 0., 0., 0., 0., 0., 0., 0., 0., 0., 0., 0., 0., 0., 0.,\n",
              "       0., 0., 0., 0., 0., 0., 0., 0., 0., 0., 0., 0., 0., 0., 0., 0., 0.,\n",
              "       0., 0., 0., 0., 0., 0., 0., 0., 0., 0., 0., 0., 0., 0., 0., 0., 0.,\n",
              "       0., 0., 0., 0., 0., 0., 0., 0., 0., 0., 0., 0., 0., 0., 0., 0., 0.,\n",
              "       0., 0., 0., 0., 0., 0., 0., 0., 0., 0., 0., 0., 0., 0., 0., 0., 0.,\n",
              "       0., 0., 0., 0., 0., 0., 0., 0., 0., 0., 0., 0., 0., 0., 0., 0., 0.,\n",
              "       0., 0., 0., 0., 0., 0., 0., 0., 0., 0., 0., 0., 0., 0., 0., 0., 0.,\n",
              "       0., 0., 0., 0., 0., 0., 0., 0., 0., 0., 0., 0., 0., 0., 0., 0., 0.,\n",
              "       0., 0., 0., 0., 0., 0., 0., 0., 0., 0., 0., 0., 0., 0., 0., 0., 0.,\n",
              "       0., 0., 0., 0., 0., 0., 0., 0., 0., 0., 0., 0., 0., 0., 0., 0., 0.,\n",
              "       0., 0., 0., 0., 0., 0., 0., 0., 0., 0., 0., 0., 0., 0., 0., 0., 0.,\n",
              "       0., 0., 0., 0., 0., 0., 0., 0., 0., 0., 0., 0., 0., 0., 0., 0., 0.,\n",
              "       0., 0., 0., 0., 0., 0., 0., 0., 0., 0., 0., 0., 0., 0., 0., 0., 0.,\n",
              "       0., 0., 0., 0., 0., 0., 0., 0., 0., 0., 0., 0., 0., 0., 0., 0., 0.,\n",
              "       0., 0., 0., 0., 0., 0., 0., 0., 0., 0., 0., 0., 0., 0., 0., 0., 0.,\n",
              "       0., 0., 0., 0., 0., 0., 0., 0., 0., 0., 0., 0., 0., 0., 0., 0., 0.,\n",
              "       0., 0., 0., 0., 0., 0., 0., 0., 0., 0., 0.])"
            ]
          },
          "metadata": {
            "tags": []
          },
          "execution_count": 118
        }
      ]
    },
    {
      "cell_type": "code",
      "metadata": {
        "colab": {
          "base_uri": "https://localhost:8080/"
        },
        "id": "4_LEe-S6odpU",
        "scrolled": true,
        "outputId": "dfac3182-b60f-4dd0-a4dc-a190f71ef059"
      },
      "source": [
        "embedding_matrix[tokenizer.word_index['machine']]"
      ],
      "execution_count": null,
      "outputs": [
        {
          "output_type": "execute_result",
          "data": {
            "text/plain": [
              "array([ 2.55859375e-01, -2.20947266e-02,  2.90527344e-02,  5.44433594e-02,\n",
              "       -7.42187500e-02,  3.53515625e-01, -6.34765625e-02,  1.44531250e-01,\n",
              "        7.22656250e-02,  1.00097656e-01, -1.82617188e-01, -2.28515625e-01,\n",
              "        2.20947266e-02, -2.20703125e-01,  1.91406250e-01,  1.91406250e-01,\n",
              "       -1.66992188e-01,  1.67968750e-01,  2.94921875e-01, -1.80664062e-01,\n",
              "       -1.45263672e-02,  1.07421875e-01, -1.65039062e-01,  2.98828125e-01,\n",
              "        1.29882812e-01, -1.17187500e-01, -1.67968750e-01,  1.01562500e-01,\n",
              "        4.49218750e-02, -1.20605469e-01,  7.47070312e-02, -3.47656250e-01,\n",
              "       -1.01074219e-01,  3.80859375e-01, -2.06054688e-01, -7.47070312e-02,\n",
              "       -1.08398438e-01,  1.86523438e-01,  2.01171875e-01, -2.12402344e-02,\n",
              "        2.85156250e-01, -9.27734375e-02,  1.39648438e-01,  5.78613281e-02,\n",
              "        2.67578125e-01, -1.50390625e-01, -8.54492188e-02,  1.92382812e-01,\n",
              "        8.00781250e-02,  6.39648438e-02, -7.47070312e-02, -8.59375000e-02,\n",
              "        5.10253906e-02, -3.51562500e-01, -1.50390625e-01,  7.42187500e-02,\n",
              "        3.37890625e-01, -1.39648438e-01, -6.78710938e-02, -1.54296875e-01,\n",
              "       -4.24804688e-02, -2.99072266e-02, -1.12304688e-01, -9.91210938e-02,\n",
              "        4.05273438e-02, -1.42578125e-01, -2.28515625e-01, -7.66601562e-02,\n",
              "       -1.20117188e-01,  4.56542969e-02,  5.12695312e-02,  5.20019531e-02,\n",
              "        5.78613281e-02,  3.88183594e-02, -8.78906250e-02, -1.14746094e-01,\n",
              "        1.69921875e-01, -1.60156250e-01,  2.15148926e-03, -2.19726562e-01,\n",
              "        1.31835938e-01,  1.53320312e-01,  1.17675781e-01, -4.15039062e-02,\n",
              "        1.53320312e-01,  2.63977051e-03, -9.08203125e-02,  3.32031250e-01,\n",
              "        3.12500000e-01,  1.00097656e-01, -1.14746094e-01,  2.69531250e-01,\n",
              "       -3.49426270e-03,  3.95507812e-02, -1.39648438e-01,  4.78515625e-02,\n",
              "        8.88671875e-02, -9.76562500e-02,  2.65625000e-01,  5.10253906e-02,\n",
              "        1.32812500e-01, -2.79296875e-01, -8.34960938e-02,  1.34277344e-02,\n",
              "       -9.47265625e-02,  8.93554688e-02, -8.05664062e-02, -8.93554688e-02,\n",
              "        2.12890625e-01, -1.39648438e-01,  9.13085938e-02, -1.36718750e-01,\n",
              "       -7.95898438e-02, -4.83398438e-02,  6.83593750e-02, -6.71386719e-03,\n",
              "       -4.05273438e-02, -1.32446289e-02,  4.24804688e-02, -1.39648438e-01,\n",
              "       -6.98242188e-02, -5.15136719e-02,  5.46264648e-03, -3.97949219e-02,\n",
              "       -1.18652344e-01,  9.37500000e-02, -4.97436523e-03,  3.69262695e-03,\n",
              "        2.39257812e-01,  1.36718750e-01,  2.63671875e-01, -1.32446289e-02,\n",
              "       -1.29882812e-01, -1.85546875e-02,  1.07421875e-01, -2.53295898e-03,\n",
              "        1.04003906e-01, -1.09863281e-03, -1.54296875e-01, -3.80859375e-02,\n",
              "        1.35742188e-01, -2.00195312e-01,  1.29882812e-01,  1.78710938e-01,\n",
              "        6.29882812e-02, -1.05468750e-01,  1.15722656e-01, -1.66992188e-01,\n",
              "        4.54101562e-02,  1.10351562e-01,  5.95703125e-02, -5.15136719e-02,\n",
              "        6.78710938e-02,  1.74804688e-01, -6.43920898e-03,  1.96289062e-01,\n",
              "       -2.59765625e-01,  1.53320312e-01, -1.83593750e-01, -8.93554688e-02,\n",
              "       -1.77001953e-02, -6.54296875e-02, -3.29589844e-02, -1.33789062e-01,\n",
              "       -5.83496094e-02, -4.12109375e-01,  1.80664062e-01, -1.78710938e-01,\n",
              "        2.92968750e-02, -3.58581543e-03, -1.41601562e-01, -6.78710938e-02,\n",
              "       -4.34570312e-02, -3.07617188e-02, -2.98828125e-01, -1.67846680e-04,\n",
              "        1.24511719e-01, -1.32812500e-01, -1.92871094e-02,  5.56640625e-02,\n",
              "       -4.90722656e-02, -1.50390625e-01,  1.46484375e-01,  4.83398438e-02,\n",
              "        1.30859375e-01,  6.00585938e-02,  7.66601562e-02,  1.12304688e-01,\n",
              "       -2.14843750e-01,  1.30859375e-01,  8.78906250e-02,  3.00781250e-01,\n",
              "       -2.61230469e-02,  2.36328125e-01,  1.41601562e-01, -1.10351562e-01,\n",
              "       -6.39648438e-02, -3.63769531e-02, -1.67968750e-01, -2.59765625e-01,\n",
              "        1.75781250e-02,  1.93359375e-01, -1.19140625e-01,  2.50000000e-01,\n",
              "        1.66015625e-01, -1.02050781e-01,  8.34960938e-02,  1.06933594e-01,\n",
              "        1.01928711e-02, -3.43750000e-01,  1.30859375e-01,  9.13085938e-02,\n",
              "       -2.81250000e-01,  1.85546875e-01,  1.42578125e-01, -2.53906250e-01,\n",
              "       -9.13085938e-02,  1.76757812e-01, -3.04687500e-01,  1.47460938e-01,\n",
              "       -2.81982422e-02,  3.93066406e-02,  8.20312500e-02,  2.25830078e-02,\n",
              "       -6.54296875e-02, -2.52685547e-02, -1.75781250e-01,  1.45507812e-01,\n",
              "       -4.58984375e-02, -2.96875000e-01,  3.14941406e-02, -2.90527344e-02,\n",
              "       -1.02539062e-01, -2.12890625e-01, -3.20312500e-01,  7.81250000e-02,\n",
              "       -1.81640625e-01,  5.85937500e-02,  9.17968750e-02, -2.67028809e-03,\n",
              "        1.69921875e-01, -3.14453125e-01, -3.02734375e-01, -1.23046875e-01,\n",
              "        1.17187500e-01, -4.90722656e-02, -7.29370117e-03,  1.30859375e-01,\n",
              "        2.36816406e-02, -1.63269043e-03, -1.63085938e-01,  7.29370117e-03,\n",
              "        7.42187500e-02, -1.85546875e-01, -6.20117188e-02, -2.46093750e-01,\n",
              "        1.22558594e-01,  3.23486328e-03, -1.29882812e-01, -3.10546875e-01,\n",
              "        1.41601562e-01, -3.83300781e-02, -1.04492188e-01, -3.14941406e-02,\n",
              "       -1.52343750e-01, -3.43322754e-03, -5.83496094e-02,  1.17675781e-01,\n",
              "       -1.64062500e-01,  1.47460938e-01,  9.13085938e-02, -1.68945312e-01,\n",
              "       -2.67333984e-02, -1.10839844e-01, -1.70898438e-01, -5.88378906e-02,\n",
              "       -2.94189453e-02, -2.25585938e-01, -6.73828125e-02,  2.21679688e-01,\n",
              "       -3.93066406e-02,  1.32812500e-01,  2.11914062e-01, -1.58691406e-02,\n",
              "       -9.03320312e-02, -3.02734375e-01,  9.52148438e-02, -1.47460938e-01,\n",
              "        1.95312500e-01,  2.00195312e-01, -2.57812500e-01, -1.01562500e-01,\n",
              "       -2.87109375e-01, -8.20312500e-02, -1.34765625e-01, -3.33984375e-01,\n",
              "        1.21093750e-01,  4.54101562e-02, -3.39843750e-01, -8.15429688e-02])"
            ]
          },
          "metadata": {
            "tags": []
          },
          "execution_count": 119
        }
      ]
    },
    {
      "cell_type": "code",
      "metadata": {
        "id": "ze3NNOLYodpW"
      },
      "source": [
        "# creating document-word embeddings\n",
        "document_word_embeddings=np.zeros((len(tokenized_paded_documents),64,300))\n",
        "\n",
        "for i in range(len(tokenized_paded_documents)):\n",
        "    for j in range(len(tokenized_paded_documents[0])):\n",
        "        document_word_embeddings[i][j]=embedding_matrix[tokenized_paded_documents[i][j]]"
      ],
      "execution_count": null,
      "outputs": []
    },
    {
      "cell_type": "code",
      "metadata": {
        "colab": {
          "base_uri": "https://localhost:8080/"
        },
        "id": "I4JSjhQKodpc",
        "outputId": "31d0c29a-a1a7-4aa5-a597-5781db855685"
      },
      "source": [
        "document_word_embeddings.shape"
      ],
      "execution_count": null,
      "outputs": [
        {
          "output_type": "execute_result",
          "data": {
            "text/plain": [
              "(6, 64, 300)"
            ]
          },
          "metadata": {
            "tags": []
          },
          "execution_count": 121
        }
      ]
    },
    {
      "cell_type": "code",
      "metadata": {
        "id": "AdtxAgA4odpf",
        "scrolled": true
      },
      "source": [
        "# tf-idf vectors do not keep the original sequence of words, converting them into actual word sequences from the documents\n",
        "\n",
        "document_embeddings=np.zeros((len(tokenized_paded_documents),300))\n",
        "words=tfidfvectoriser.get_feature_names()\n",
        "\n",
        "for i in range(len(document_word_embeddings)):\n",
        "    for j in range(len(words)):\n",
        "        document_embeddings[i]+=embedding_matrix[tokenizer.word_index[words[j]]]*tfidf_vectors[i][j]\n",
        "        \n",
        "document_embeddings=document_embeddings/np.sum(tfidf_vectors,axis=1).reshape(-1,1)\n",
        "    "
      ],
      "execution_count": null,
      "outputs": []
    },
    {
      "cell_type": "code",
      "metadata": {
        "id": "QHQl0X7modpj"
      },
      "source": [
        "pairwise_similarities_2=cosine_similarity(document_embeddings)\n",
        "pairwise_differences_2=euclidean_distances(document_embeddings)\n",
        "normed_matrix_2 = normalize(pairwise_differences_2, axis=1, norm='l1')"
      ],
      "execution_count": null,
      "outputs": []
    },
    {
      "cell_type": "code",
      "metadata": {
        "colab": {
          "base_uri": "https://localhost:8080/",
          "height": 324
        },
        "id": "LSrCE602XM03",
        "outputId": "8973503e-1676-41ce-9a60-9bd01b76dc52"
      },
      "source": [
        "import seaborn as sns\n",
        "import matplotlib.pyplot as plt\n",
        "fig, ax = plt.subplots(figsize=(5,5)) \n",
        "ax_blue = sns.heatmap(pairwise_similarities_2, cmap=\"YlGnBu\")"
      ],
      "execution_count": null,
      "outputs": [
        {
          "output_type": "display_data",
          "data": {
            "image/png": "[encoded data removed]",
            "text/plain": [
              "<Figure size 360x360 with 2 Axes>"
            ]
          },
          "metadata": {
            "tags": [],
            "needs_background": "light"
          }
        }
      ]
    },
    {
      "cell_type": "code",
      "metadata": {
        "colab": {
          "base_uri": "https://localhost:8080/",
          "height": 320
        },
        "id": "R7QjOf0zvNGG",
        "outputId": "0690d4c6-9340-4c0b-af1a-8e3e426d341d"
      },
      "source": [
        "import seaborn as sns\n",
        "import matplotlib.pyplot as plt\n",
        "fig, ax = plt.subplots(figsize=(5,5)) \n",
        "ax_blue = sns.heatmap(normed_matrix_2, cmap=\"YlGnBu\")"
      ],
      "execution_count": null,
      "outputs": [
        {
          "output_type": "display_data",
          "data": {
            "image/png": "[encoded data removed]",
            "text/plain": [
              "<Figure size 360x360 with 2 Axes>"
            ]
          },
          "metadata": {
            "tags": [],
            "needs_background": "light"
          }
        }
      ]
    },
    {
      "cell_type": "code",
      "metadata": {
        "colab": {
          "base_uri": "https://localhost:8080/"
        },
        "id": "W-xnkF3Rodpl",
        "outputId": "ff245bf3-f4a8-4f9a-d1c2-fc76b3a33821"
      },
      "source": [
        "most_similar(0,pairwise_similarities,'Cosine Similarity')"
      ],
      "execution_count": null,
      "outputs": [
        {
          "output_type": "stream",
          "text": [
            "Document: Machine learning is the study of computer algorithms that improve automatically through experience.Machine learning algorithms build a mathematical model based on sample data, known as training data.The discipline of machine learning employs various approaches to teach computers to accomplish tasks where no fully satisfactory algorithm is available.\n",
            "\n",
            "\n",
            "Similar Documents using Cosine Similarity:\n",
            "\n",
            "\n",
            "Document: Machine learning is closely related to computational statistics, which focuses on making predictions using computers.The study of mathematical optimization delivers methods, theory and application domains to the field of machine learning.\n",
            "Cosine Similarity : 0.8302158037549516\n",
            "\n",
            "\n",
            "Document: Machine learning involves computers discovering how they can perform tasks without being explicitly programmed to do so. It involves computers learning from data provided so that they carry out certain tasks.\n",
            "Cosine Similarity : 0.779994095766225\n",
            "\n",
            "\n",
            "Document: Machine learning approaches are traditionally divided into three broad categories, depending on the nature of the \"signal\"or \"feedback\" available to the learning system: Supervised, Unsupervised and Reinforcement\n",
            "Cosine Similarity : 0.6711732124068526\n",
            "\n",
            "\n",
            "Document: A software engineer creates programs based on logic for the computer to execute. A software engineer has to be more concernedabout the correctness of the program in all the cases. Meanwhile, a data scientist is comfortable with uncertainty and variability.\n",
            "Cosine Similarity : 0.6635470230855633\n",
            "\n",
            "\n",
            "Document: Software engineering is the systematic application of engineering approaches to the development of software.Software engineering is a computing discipline.\n",
            "Cosine Similarity : 0.628688088195519\n"
          ],
          "name": "stdout"
        }
      ]
    },
    {
      "cell_type": "code",
      "metadata": {
        "colab": {
          "base_uri": "https://localhost:8080/"
        },
        "id": "SqfLobmZodpn",
        "outputId": "2e165256-d81f-4110-8955-1f5571d6ded7"
      },
      "source": [
        "most_similar(0,pairwise_differences,'Euclidean Distance')"
      ],
      "execution_count": null,
      "outputs": [
        {
          "output_type": "stream",
          "text": [
            "Document: Machine learning is the study of computer algorithms that improve automatically through experience.Machine learning algorithms build a mathematical model based on sample data, known as training data.The discipline of machine learning employs various approaches to teach computers to accomplish tasks where no fully satisfactory algorithm is available.\n",
            "\n",
            "\n",
            "Similar Documents using Euclidean Distance:\n",
            "\n",
            "\n",
            "Document: Machine learning is closely related to computational statistics, which focuses on making predictions using computers.The study of mathematical optimization delivers methods, theory and application domains to the field of machine learning.\n",
            "Euclidean Distance : 0.7135816494552345\n",
            "\n",
            "\n",
            "Document: Machine learning involves computers discovering how they can perform tasks without being explicitly programmed to do so. It involves computers learning from data provided so that they carry out certain tasks.\n",
            "Euclidean Distance : 0.8160565965230125\n",
            "\n",
            "\n",
            "Document: Machine learning approaches are traditionally divided into three broad categories, depending on the nature of the \"signal\"or \"feedback\" available to the learning system: Supervised, Unsupervised and Reinforcement\n",
            "Euclidean Distance : 0.9109663213434376\n",
            "\n",
            "\n",
            "Document: A software engineer creates programs based on logic for the computer to execute. A software engineer has to be more concernedabout the correctness of the program in all the cases. Meanwhile, a data scientist is comfortable with uncertainty and variability.\n",
            "Euclidean Distance : 0.94812430363206\n",
            "\n",
            "\n",
            "Document: Software engineering is the systematic application of engineering approaches to the development of software.Software engineering is a computing discipline.\n",
            "Euclidean Distance : 1.3185667433041053\n"
          ],
          "name": "stdout"
        }
      ]
    },
    {
      "cell_type": "markdown",
      "metadata": {
        "id": "L7oG1uuGodpp"
      },
      "source": [
        "#### Glove embeddings"
      ]
    },
    {
      "cell_type": "code",
      "metadata": {
        "colab": {
          "base_uri": "https://localhost:8080/"
        },
        "id": "Eu11YeO6SXBc",
        "outputId": "cdc35101-17e7-4d24-8c95-7af502cedc78"
      },
      "source": [
        "!pwd"
      ],
      "execution_count": null,
      "outputs": [
        {
          "output_type": "stream",
          "text": [
            "/content\n"
          ],
          "name": "stdout"
        }
      ]
    },
    {
      "cell_type": "code",
      "metadata": {
        "colab": {
          "base_uri": "https://localhost:8080/"
        },
        "id": "6GM8GZnDTIEa",
        "outputId": "737f3727-abe5-4ee3-e9c3-2d5bf813f9c7"
      },
      "source": [
        "from google.colab import drive\n",
        "drive.mount('/content/drive')"
      ],
      "execution_count": null,
      "outputs": [
        {
          "output_type": "stream",
          "text": [
            "Mounted at /content/drive\n"
          ],
          "name": "stdout"
        }
      ]
    },
    {
      "cell_type": "code",
      "metadata": {
        "id": "Dyl2etaWodpq"
      },
      "source": [
        "# reading Glove word embeddings into a dictionary with \"word\" as key and values as word vectors\n",
        "\n",
        "embeddings_index = dict()\n",
        "\n",
        "with open('/content/drive/MyDrive/SF_LAB_2/Document_Similarity/glove.6B.50d.txt') as file:\n",
        "    for line in file:\n",
        "        values = line.split()\n",
        "        word = values[0]\n",
        "        coefs = np.asarray(values[1:], dtype='float32')\n",
        "        embeddings_index[word] = coefs\n",
        "    "
      ],
      "execution_count": null,
      "outputs": []
    },
    {
      "cell_type": "code",
      "metadata": {
        "id": "27-WY53Yodps"
      },
      "source": [
        "# creating embedding matrix, every row is a vector representation from the vocabulary indexed by the tokenizer index. \n",
        "\n",
        "embedding_matrix=np.zeros((vocab_size,50))\n",
        "\n",
        "for word,i in tokenizer.word_index.items():\n",
        "    embedding_vector = embeddings_index.get(word)\n",
        "    if embedding_vector is not None:\n",
        "        embedding_matrix[i] = embedding_vector"
      ],
      "execution_count": null,
      "outputs": []
    },
    {
      "cell_type": "code",
      "metadata": {
        "id": "elSMrWDKodpu"
      },
      "source": [
        "# tf-idf vectors do not keep the original sequence of words, converting them into actual word sequences from the documents\n",
        "\n",
        "document_embeddings=np.zeros((len(tokenized_paded_documents),50))\n",
        "words=tfidfvectoriser.get_feature_names()\n",
        "\n",
        "for i in range(documents_df.shape[0]):\n",
        "    for j in range(len(words)):\n",
        "        document_embeddings[i]+=embedding_matrix[tokenizer.word_index[words[j]]]*tfidf_vectors[i][j]\n",
        "        \n",
        "document_embeddings=document_embeddings/np.sum(tfidf_vectors,axis=1).reshape(-1,1)"
      ],
      "execution_count": null,
      "outputs": []
    },
    {
      "cell_type": "code",
      "metadata": {
        "colab": {
          "base_uri": "https://localhost:8080/"
        },
        "id": "tg2Q706Uodpw",
        "outputId": "e6a52f19-72d2-4576-dfc2-a92226fbeffd"
      },
      "source": [
        "document_embeddings.shape"
      ],
      "execution_count": null,
      "outputs": [
        {
          "output_type": "execute_result",
          "data": {
            "text/plain": [
              "(6, 50)"
            ]
          },
          "metadata": {
            "tags": []
          },
          "execution_count": 129
        }
      ]
    },
    {
      "cell_type": "code",
      "metadata": {
        "id": "yo6yjjnyodpy"
      },
      "source": [
        "pairwise_similarities_3=cosine_similarity(document_embeddings)\n",
        "pairwise_differences_3=euclidean_distances(document_embeddings)\n",
        "normed_matrix_3 = normalize(pairwise_differences_3, axis=1, norm='l1')"
      ],
      "execution_count": null,
      "outputs": []
    },
    {
      "cell_type": "code",
      "metadata": {
        "colab": {
          "base_uri": "https://localhost:8080/",
          "height": 324
        },
        "id": "wa_HLL0iX4Ye",
        "outputId": "30c74629-aa63-44e6-ba49-d1ea7b58cf26"
      },
      "source": [
        "import seaborn as sns\n",
        "import matplotlib.pyplot as plt\n",
        "fig, ax = plt.subplots(figsize=(5,5)) \n",
        "ax_blue = sns.heatmap(pairwise_similarities_3, cmap=\"YlGnBu\")"
      ],
      "execution_count": null,
      "outputs": [
        {
          "output_type": "display_data",
          "data": {
            "image/png": "[encoded data removed]",
            "text/plain": [
              "<Figure size 360x360 with 2 Axes>"
            ]
          },
          "metadata": {
            "tags": [],
            "needs_background": "light"
          }
        }
      ]
    },
    {
      "cell_type": "code",
      "metadata": {
        "colab": {
          "base_uri": "https://localhost:8080/",
          "height": 320
        },
        "id": "Ft7F9HOFvjST",
        "outputId": "42947900-e996-4954-cea7-23ae43646b8a"
      },
      "source": [
        "import seaborn as sns\n",
        "import matplotlib.pyplot as plt\n",
        "fig, ax = plt.subplots(figsize=(5,5)) \n",
        "ax_blue = sns.heatmap(normed_matrix_3, cmap=\"YlGnBu\")"
      ],
      "execution_count": null,
      "outputs": [
        {
          "output_type": "display_data",
          "data": {
            "image/png": "[encoded data removed]",
            "text/plain": [
              "<Figure size 360x360 with 2 Axes>"
            ]
          },
          "metadata": {
            "tags": [],
            "needs_background": "light"
          }
        }
      ]
    },
    {
      "cell_type": "code",
      "metadata": {
        "colab": {
          "base_uri": "https://localhost:8080/"
        },
        "id": "dzmfvsAlodp0",
        "outputId": "4af31ec7-e595-4a93-cfc5-584178125bb7"
      },
      "source": [
        "most_similar(0,pairwise_similarities,'Cosine Similarity')"
      ],
      "execution_count": null,
      "outputs": [
        {
          "output_type": "stream",
          "text": [
            "Document: Machine learning is the study of computer algorithms that improve automatically through experience.Machine learning algorithms build a mathematical model based on sample data, known as training data.The discipline of machine learning employs various approaches to teach computers to accomplish tasks where no fully satisfactory algorithm is available.\n",
            "\n",
            "\n",
            "Similar Documents using Cosine Similarity:\n",
            "\n",
            "\n",
            "Document: Machine learning is closely related to computational statistics, which focuses on making predictions using computers.The study of mathematical optimization delivers methods, theory and application domains to the field of machine learning.\n",
            "Cosine Similarity : 0.9573438866159906\n",
            "\n",
            "\n",
            "Document: Machine learning involves computers discovering how they can perform tasks without being explicitly programmed to do so. It involves computers learning from data provided so that they carry out certain tasks.\n",
            "Cosine Similarity : 0.9478336924411906\n",
            "\n",
            "\n",
            "Document: Machine learning approaches are traditionally divided into three broad categories, depending on the nature of the \"signal\"or \"feedback\" available to the learning system: Supervised, Unsupervised and Reinforcement\n",
            "Cosine Similarity : 0.9185681456074675\n",
            "\n",
            "\n",
            "Document: A software engineer creates programs based on logic for the computer to execute. A software engineer has to be more concernedabout the correctness of the program in all the cases. Meanwhile, a data scientist is comfortable with uncertainty and variability.\n",
            "Cosine Similarity : 0.9169080229857726\n",
            "\n",
            "\n",
            "Document: Software engineering is the systematic application of engineering approaches to the development of software.Software engineering is a computing discipline.\n",
            "Cosine Similarity : 0.8980788700071779\n"
          ],
          "name": "stdout"
        }
      ]
    },
    {
      "cell_type": "code",
      "metadata": {
        "colab": {
          "base_uri": "https://localhost:8080/"
        },
        "id": "EnrtapNtodp1",
        "outputId": "41bdcc2d-3a44-41a8-815d-5cf86e4d4783"
      },
      "source": [
        "most_similar(0,pairwise_differences,'Euclidean Distance')"
      ],
      "execution_count": null,
      "outputs": [
        {
          "output_type": "stream",
          "text": [
            "Document: Machine learning is the study of computer algorithms that improve automatically through experience.Machine learning algorithms build a mathematical model based on sample data, known as training data.The discipline of machine learning employs various approaches to teach computers to accomplish tasks where no fully satisfactory algorithm is available.\n",
            "\n",
            "\n",
            "Similar Documents using Euclidean Distance:\n",
            "\n",
            "\n",
            "Document: Machine learning is closely related to computational statistics, which focuses on making predictions using computers.The study of mathematical optimization delivers methods, theory and application domains to the field of machine learning.\n",
            "Euclidean Distance : 1.0873376708634734\n",
            "\n",
            "\n",
            "Document: Machine learning involves computers discovering how they can perform tasks without being explicitly programmed to do so. It involves computers learning from data provided so that they carry out certain tasks.\n",
            "Euclidean Distance : 1.2053156472759021\n",
            "\n",
            "\n",
            "Document: Machine learning approaches are traditionally divided into three broad categories, depending on the nature of the \"signal\"or \"feedback\" available to the learning system: Supervised, Unsupervised and Reinforcement\n",
            "Euclidean Distance : 1.4517756386179452\n",
            "\n",
            "\n",
            "Document: A software engineer creates programs based on logic for the computer to execute. A software engineer has to be more concernedabout the correctness of the program in all the cases. Meanwhile, a data scientist is comfortable with uncertainty and variability.\n",
            "Euclidean Distance : 1.4873515410975098\n",
            "\n",
            "\n",
            "Document: Software engineering is the systematic application of engineering approaches to the development of software.Software engineering is a computing discipline.\n",
            "Euclidean Distance : 1.9050010377096958\n"
          ],
          "name": "stdout"
        }
      ]
    },
    {
      "cell_type": "markdown",
      "metadata": {
        "id": "hecViuQRodp3"
      },
      "source": [
        "#### Doc2vec model"
      ]
    },
    {
      "cell_type": "code",
      "metadata": {
        "id": "MDLKLZXPodp4"
      },
      "source": [
        "from gensim.models.doc2vec import Doc2Vec, TaggedDocument"
      ],
      "execution_count": null,
      "outputs": []
    },
    {
      "cell_type": "code",
      "metadata": {
        "id": "5THng5QPodp5"
      },
      "source": [
        "tagged_data = [TaggedDocument(words=word_tokenize(doc), tags=[i]) for i, doc in enumerate(documents_df.documents_cleaned)]"
      ],
      "execution_count": null,
      "outputs": []
    },
    {
      "cell_type": "code",
      "metadata": {
        "id": "YURtty-Lodp7",
        "scrolled": true
      },
      "source": [
        "model_d2v = Doc2Vec(vector_size=100,alpha=0.025, min_count=1)\n",
        "  \n",
        "model_d2v.build_vocab(tagged_data)\n",
        "\n",
        "for epoch in range(100):\n",
        "    model_d2v.train(tagged_data,\n",
        "                total_examples=model_d2v.corpus_count,\n",
        "                epochs=model_d2v.epochs)"
      ],
      "execution_count": null,
      "outputs": []
    },
    {
      "cell_type": "code",
      "metadata": {
        "id": "bJfa1EYWodp9"
      },
      "source": [
        "document_embeddings=np.zeros((documents_df.shape[0],100))\n",
        "\n",
        "for i in range(len(document_embeddings)):\n",
        "    document_embeddings[i]=model_d2v.docvecs[i]"
      ],
      "execution_count": null,
      "outputs": []
    },
    {
      "cell_type": "code",
      "metadata": {
        "id": "GtkQELbxodp_"
      },
      "source": [
        "pairwise_similarities_4=cosine_similarity(document_embeddings)\n",
        "pairwise_differences_4=euclidean_distances(document_embeddings)\n",
        "normed_matrix_4 = normalize(pairwise_differences_4, axis=1, norm='l1')"
      ],
      "execution_count": null,
      "outputs": []
    },
    {
      "cell_type": "code",
      "metadata": {
        "colab": {
          "base_uri": "https://localhost:8080/",
          "height": 324
        },
        "id": "9WU9P3xAYHxo",
        "outputId": "db2fde0a-d13f-4705-bfb1-d738dbf96d8c"
      },
      "source": [
        "import seaborn as sns\n",
        "import matplotlib.pyplot as plt\n",
        "fig, ax = plt.subplots(figsize=(5,5)) \n",
        "ax_blue = sns.heatmap(pairwise_similarities_4, cmap=\"YlGnBu\")"
      ],
      "execution_count": null,
      "outputs": [
        {
          "output_type": "display_data",
          "data": {
            "image/png": "[encoded data removed]",
            "text/plain": [
              "<Figure size 360x360 with 2 Axes>"
            ]
          },
          "metadata": {
            "tags": [],
            "needs_background": "light"
          }
        }
      ]
    },
    {
      "cell_type": "code",
      "metadata": {
        "colab": {
          "base_uri": "https://localhost:8080/",
          "height": 320
        },
        "id": "XDdZcUSkv89u",
        "outputId": "322722f8-9cfa-41aa-d9aa-51fdccd817a2"
      },
      "source": [
        "import seaborn as sns\n",
        "import matplotlib.pyplot as plt\n",
        "fig, ax = plt.subplots(figsize=(5,5)) \n",
        "ax_blue = sns.heatmap(normed_matrix_4, cmap=\"YlGnBu\")"
      ],
      "execution_count": null,
      "outputs": [
        {
          "output_type": "display_data",
          "data": {
            "image/png": "[encoded data removed]",
            "text/plain": [
              "<Figure size 360x360 with 2 Axes>"
            ]
          },
          "metadata": {
            "tags": [],
            "needs_background": "light"
          }
        }
      ]
    },
    {
      "cell_type": "code",
      "metadata": {
        "colab": {
          "base_uri": "https://localhost:8080/"
        },
        "id": "bZEEOxDvodqC",
        "outputId": "b36ee04b-e91d-4c97-8d65-20a165a889d8"
      },
      "source": [
        "most_similar(0,pairwise_similarities,'Cosine Similarity')"
      ],
      "execution_count": null,
      "outputs": [
        {
          "output_type": "stream",
          "text": [
            "Document: Machine learning is the study of computer algorithms that improve automatically through experience.Machine learning algorithms build a mathematical model based on sample data, known as training data.The discipline of machine learning employs various approaches to teach computers to accomplish tasks where no fully satisfactory algorithm is available.\n",
            "\n",
            "\n",
            "Similar Documents using Cosine Similarity:\n",
            "\n",
            "\n",
            "Document: Machine learning is closely related to computational statistics, which focuses on making predictions using computers.The study of mathematical optimization delivers methods, theory and application domains to the field of machine learning.\n",
            "Cosine Similarity : 0.4838936712512902\n",
            "\n",
            "\n",
            "Document: Machine learning involves computers discovering how they can perform tasks without being explicitly programmed to do so. It involves computers learning from data provided so that they carry out certain tasks.\n",
            "Cosine Similarity : 0.47049866361302317\n",
            "\n",
            "\n",
            "Document: Machine learning approaches are traditionally divided into three broad categories, depending on the nature of the \"signal\"or \"feedback\" available to the learning system: Supervised, Unsupervised and Reinforcement\n",
            "Cosine Similarity : 0.37784231855217165\n",
            "\n",
            "\n",
            "Document: Software engineering is the systematic application of engineering approaches to the development of software.Software engineering is a computing discipline.\n",
            "Cosine Similarity : 0.2531744155039276\n",
            "\n",
            "\n",
            "Document: A software engineer creates programs based on logic for the computer to execute. A software engineer has to be more concernedabout the correctness of the program in all the cases. Meanwhile, a data scientist is comfortable with uncertainty and variability.\n",
            "Cosine Similarity : 0.2149026025889465\n"
          ],
          "name": "stdout"
        }
      ]
    },
    {
      "cell_type": "code",
      "metadata": {
        "colab": {
          "base_uri": "https://localhost:8080/"
        },
        "id": "a81ZJ4btodqF",
        "outputId": "462c1c5b-5cc4-4370-95d3-d37ae1671766"
      },
      "source": [
        "most_similar(0,pairwise_differences,'Euclidean Distance')"
      ],
      "execution_count": null,
      "outputs": [
        {
          "output_type": "stream",
          "text": [
            "Document: Machine learning is the study of computer algorithms that improve automatically through experience.Machine learning algorithms build a mathematical model based on sample data, known as training data.The discipline of machine learning employs various approaches to teach computers to accomplish tasks where no fully satisfactory algorithm is available.\n",
            "\n",
            "\n",
            "Similar Documents using Euclidean Distance:\n",
            "\n",
            "\n",
            "Document: Machine learning involves computers discovering how they can perform tasks without being explicitly programmed to do so. It involves computers learning from data provided so that they carry out certain tasks.\n",
            "Euclidean Distance : 5.903977415186227\n",
            "\n",
            "\n",
            "Document: Software engineering is the systematic application of engineering approaches to the development of software.Software engineering is a computing discipline.\n",
            "Euclidean Distance : 6.218595423026552\n",
            "\n",
            "\n",
            "Document: Machine learning is closely related to computational statistics, which focuses on making predictions using computers.The study of mathematical optimization delivers methods, theory and application domains to the field of machine learning.\n",
            "Euclidean Distance : 6.469650826866228\n",
            "\n",
            "\n",
            "Document: Machine learning approaches are traditionally divided into three broad categories, depending on the nature of the \"signal\"or \"feedback\" available to the learning system: Supervised, Unsupervised and Reinforcement\n",
            "Euclidean Distance : 7.029004068384023\n",
            "\n",
            "\n",
            "Document: A software engineer creates programs based on logic for the computer to execute. A software engineer has to be more concernedabout the correctness of the program in all the cases. Meanwhile, a data scientist is comfortable with uncertainty and variability.\n",
            "Euclidean Distance : 8.683093014099201\n"
          ],
          "name": "stdout"
        }
      ]
    },
    {
      "cell_type": "markdown",
      "metadata": {
        "id": "aVJRh-cSodqH"
      },
      "source": [
        "#### BERT model"
      ]
    },
    {
      "cell_type": "code",
      "metadata": {
        "colab": {
          "base_uri": "https://localhost:8080/"
        },
        "id": "ckiXimUnaXv_",
        "outputId": "99bded7a-6921-4ca8-894f-b14a6619b04a"
      },
      "source": [
        "documents_df['documents_cleaned']"
      ],
      "execution_count": null,
      "outputs": [
        {
          "output_type": "execute_result",
          "data": {
            "text/plain": [
              "0    machine learning study computer algorithms improve automatically experience machine learning algorithms build mathematical model based sample data  known training data the discipline machine learning employs various approaches teach computers accomplish tasks fully satisfactory algorithm available \n",
              "1    machine learning closely related computational statistics  focuses making predictions using computers the study mathematical optimization delivers methods  theory application domains field machine learning                                                                                              \n",
              "2    machine learning involves computers discovering perform tasks without explicitly programmed so  involves computers learning data provided carry certain tasks                                                                                                                                              \n",
              "3    machine learning approaches traditionally divided three broad categories  depending nature  signal or  feedback  available learning system  supervised  unsupervised reinforcement                                                                                                                         \n",
              "4    software engineering systematic application engineering approaches development software software engineering computing discipline                                                                                                                                                                          \n",
              "5    software engineer creates programs based logic computer execute  software engineer concernedabout correctness program cases  meanwhile  data scientist comfortable uncertainty variability                                                                                                                 \n",
              "Name: documents_cleaned, dtype: object"
            ]
          },
          "metadata": {
            "tags": []
          },
          "execution_count": 52
        }
      ]
    },
    {
      "cell_type": "code",
      "metadata": {
        "colab": {
          "base_uri": "https://localhost:8080/"
        },
        "id": "oKwxhcFDTzeC",
        "outputId": "66d4ec64-0fcd-4190-865d-8e1386a052c2"
      },
      "source": [
        "!pip install sentence-transformers"
      ],
      "execution_count": null,
      "outputs": [
        {
          "output_type": "stream",
          "text": [
            "Collecting sentence-transformers\n",
            "\u001b[?25l  Downloading https://files.pythonhosted.org/packages/c4/87/49dc49e13ac107ce912c2f3f3fd92252c6d4221e88d1e6c16747044a11d8/sentence-transformers-1.1.0.tar.gz (78kB)\n",
            "\u001b[K     |████████████████████████████████| 81kB 3.6MB/s \n",
            "\u001b[?25hCollecting transformers<5.0.0,>=3.1.0\n",
            "\u001b[?25l  Downloading https://files.pythonhosted.org/packages/d8/b2/57495b5309f09fa501866e225c84532d1fd89536ea62406b2181933fb418/transformers-4.5.1-py3-none-any.whl (2.1MB)\n",
            "\u001b[K     |████████████████████████████████| 2.1MB 9.0MB/s \n",
            "\u001b[?25hRequirement already satisfied: tqdm in /usr/local/lib/python3.7/dist-packages (from sentence-transformers) (4.41.1)\n",
            "Requirement already satisfied: torch>=1.6.0 in /usr/local/lib/python3.7/dist-packages (from sentence-transformers) (1.8.1+cu101)\n",
            "Requirement already satisfied: numpy in /usr/local/lib/python3.7/dist-packages (from sentence-transformers) (1.19.5)\n",
            "Requirement already satisfied: scikit-learn in /usr/local/lib/python3.7/dist-packages (from sentence-transformers) (0.22.2.post1)\n",
            "Requirement already satisfied: scipy in /usr/local/lib/python3.7/dist-packages (from sentence-transformers) (1.4.1)\n",
            "Requirement already satisfied: nltk in /usr/local/lib/python3.7/dist-packages (from sentence-transformers) (3.2.5)\n",
            "Collecting sentencepiece\n",
            "\u001b[?25l  Downloading https://files.pythonhosted.org/packages/f5/99/e0808cb947ba10f575839c43e8fafc9cc44e4a7a2c8f79c60db48220a577/sentencepiece-0.1.95-cp37-cp37m-manylinux2014_x86_64.whl (1.2MB)\n",
            "\u001b[K     |████████████████████████████████| 1.2MB 20.9MB/s \n",
            "\u001b[?25hCollecting tokenizers<0.11,>=0.10.1\n",
            "\u001b[?25l  Downloading https://files.pythonhosted.org/packages/ae/04/5b870f26a858552025a62f1649c20d29d2672c02ff3c3fb4c688ca46467a/tokenizers-0.10.2-cp37-cp37m-manylinux2010_x86_64.whl (3.3MB)\n",
            "\u001b[K     |████████████████████████████████| 3.3MB 43.2MB/s \n",
            "\u001b[?25hRequirement already satisfied: regex!=2019.12.17 in /usr/local/lib/python3.7/dist-packages (from transformers<5.0.0,>=3.1.0->sentence-transformers) (2019.12.20)\n",
            "Requirement already satisfied: requests in /usr/local/lib/python3.7/dist-packages (from transformers<5.0.0,>=3.1.0->sentence-transformers) (2.23.0)\n",
            "Requirement already satisfied: filelock in /usr/local/lib/python3.7/dist-packages (from transformers<5.0.0,>=3.1.0->sentence-transformers) (3.0.12)\n",
            "Collecting sacremoses\n",
            "\u001b[?25l  Downloading https://files.pythonhosted.org/packages/75/ee/67241dc87f266093c533a2d4d3d69438e57d7a90abb216fa076e7d475d4a/sacremoses-0.0.45-py3-none-any.whl (895kB)\n",
            "\u001b[K     |████████████████████████████████| 901kB 45.6MB/s \n",
            "\u001b[?25hRequirement already satisfied: packaging in /usr/local/lib/python3.7/dist-packages (from transformers<5.0.0,>=3.1.0->sentence-transformers) (20.9)\n",
            "Requirement already satisfied: importlib-metadata; python_version < \"3.8\" in /usr/local/lib/python3.7/dist-packages (from transformers<5.0.0,>=3.1.0->sentence-transformers) (3.10.1)\n",
            "Requirement already satisfied: typing-extensions in /usr/local/lib/python3.7/dist-packages (from torch>=1.6.0->sentence-transformers) (3.7.4.3)\n",
            "Requirement already satisfied: joblib>=0.11 in /usr/local/lib/python3.7/dist-packages (from scikit-learn->sentence-transformers) (1.0.1)\n",
            "Requirement already satisfied: six in /usr/local/lib/python3.7/dist-packages (from nltk->sentence-transformers) (1.15.0)\n",
            "Requirement already satisfied: idna<3,>=2.5 in /usr/local/lib/python3.7/dist-packages (from requests->transformers<5.0.0,>=3.1.0->sentence-transformers) (2.10)\n",
            "Requirement already satisfied: urllib3!=1.25.0,!=1.25.1,<1.26,>=1.21.1 in /usr/local/lib/python3.7/dist-packages (from requests->transformers<5.0.0,>=3.1.0->sentence-transformers) (1.24.3)\n",
            "Requirement already satisfied: certifi>=2017.4.17 in /usr/local/lib/python3.7/dist-packages (from requests->transformers<5.0.0,>=3.1.0->sentence-transformers) (2020.12.5)\n",
            "Requirement already satisfied: chardet<4,>=3.0.2 in /usr/local/lib/python3.7/dist-packages (from requests->transformers<5.0.0,>=3.1.0->sentence-transformers) (3.0.4)\n",
            "Requirement already satisfied: click in /usr/local/lib/python3.7/dist-packages (from sacremoses->transformers<5.0.0,>=3.1.0->sentence-transformers) (7.1.2)\n",
            "Requirement already satisfied: pyparsing>=2.0.2 in /usr/local/lib/python3.7/dist-packages (from packaging->transformers<5.0.0,>=3.1.0->sentence-transformers) (2.4.7)\n",
            "Requirement already satisfied: zipp>=0.5 in /usr/local/lib/python3.7/dist-packages (from importlib-metadata; python_version < \"3.8\"->transformers<5.0.0,>=3.1.0->sentence-transformers) (3.4.1)\n",
            "Building wheels for collected packages: sentence-transformers\n",
            "  Building wheel for sentence-transformers (setup.py) ... \u001b[?25l\u001b[?25hdone\n",
            "  Created wheel for sentence-transformers: filename=sentence_transformers-1.1.0-cp37-none-any.whl size=119615 sha256=e4a50b2eda2933ba63ec6d0a8ca38c6828d321231a7fb1e05265a127f85aade8\n",
            "  Stored in directory: /root/.cache/pip/wheels/84/cb/21/1066bff3027215c760ca14a198f698bca8fccb92e33e2327eb\n",
            "Successfully built sentence-transformers\n",
            "Installing collected packages: tokenizers, sacremoses, transformers, sentencepiece, sentence-transformers\n",
            "Successfully installed sacremoses-0.0.45 sentence-transformers-1.1.0 sentencepiece-0.1.95 tokenizers-0.10.2 transformers-4.5.1\n"
          ],
          "name": "stdout"
        }
      ]
    },
    {
      "cell_type": "code",
      "metadata": {
        "id": "TY_ReGIRodqH"
      },
      "source": [
        "from sentence_transformers import SentenceTransformer"
      ],
      "execution_count": null,
      "outputs": []
    },
    {
      "cell_type": "code",
      "metadata": {
        "id": "IVXJOehRodqK"
      },
      "source": [
        "sbert_model = SentenceTransformer('bert-base-nli-mean-tokens')"
      ],
      "execution_count": null,
      "outputs": []
    },
    {
      "cell_type": "code",
      "metadata": {
        "id": "bzvMGAkAaIJa"
      },
      "source": [
        "#documents_df['documents_cleaned'][4] = \"The stage is set for an epic clash as Chennai Super Kings led by MS Dhoni face off against the undefeated army of Virat Kohli's Royal Challengers Bangalore. Both teams are at the top of their games at the moment, and tonight's contest will be the real battle of will and determination. Kohli's RCB will look to cement their top spot with another win in the bag. Dhoni's army will be eager to climb up the ranks and defeated the undefeated\"\n",
        "documents_df['documents_cleaned'][4] = 'Coronavirus disease (COVID-19) is an infectious disease caused by a newly discovered coronavirus.\\\n",
        "Most people who fall sick with COVID-19 will experience mild to moderate symptoms and recover without special treatment.'"
      ],
      "execution_count": null,
      "outputs": []
    },
    {
      "cell_type": "code",
      "metadata": {
        "id": "JNvfJ6ZnodqM"
      },
      "source": [
        "document_embeddings = sbert_model.encode(documents_df['documents_cleaned'])"
      ],
      "execution_count": null,
      "outputs": []
    },
    {
      "cell_type": "code",
      "metadata": {
        "colab": {
          "base_uri": "https://localhost:8080/"
        },
        "id": "bI6Hh7qzwF8b",
        "outputId": "c488b2fb-6872-4224-d88e-d8b78cb9a88f"
      },
      "source": [
        "documents_df['documents_cleaned']"
      ],
      "execution_count": null,
      "outputs": [
        {
          "output_type": "execute_result",
          "data": {
            "text/plain": [
              "0    machine learning study computer algorithms improve automatically experience machine learning algorithms build mathematical model based sample data  known training data the discipline machine learning employs various approaches teach computers accomplish tasks fully satisfactory algorithm available \n",
              "1    machine learning closely related computational statistics  focuses making predictions using computers the study mathematical optimization delivers methods  theory application domains field machine learning                                                                                              \n",
              "2    machine learning involves computers discovering perform tasks without explicitly programmed so  involves computers learning data provided carry certain tasks                                                                                                                                              \n",
              "3    machine learning approaches traditionally divided three broad categories  depending nature  signal or  feedback  available learning system  supervised  unsupervised reinforcement                                                                                                                         \n",
              "4    software engineering systematic application engineering approaches development software software engineering computing discipline                                                                                                                                                                          \n",
              "5    software engineer creates programs based logic computer execute  software engineer concernedabout correctness program cases  meanwhile  data scientist comfortable uncertainty variability                                                                                                                 \n",
              "Name: documents_cleaned, dtype: object"
            ]
          },
          "metadata": {
            "tags": []
          },
          "execution_count": 143
        }
      ]
    },
    {
      "cell_type": "code",
      "metadata": {
        "colab": {
          "base_uri": "https://localhost:8080/"
        },
        "id": "O_5vu92HZyi9",
        "outputId": "c15019b1-0989-4ad5-8ee6-67804590c768"
      },
      "source": [
        "documents_df['documents']"
      ],
      "execution_count": null,
      "outputs": [
        {
          "output_type": "execute_result",
          "data": {
            "text/plain": [
              "0    Machine learning is the study of computer algorithms that improve automatically through experience.Machine learning algorithms build a mathematical model based on sample data, known as training data.The discipline of machine learning employs various approaches to teach computers to accomplish tasks where no fully satisfactory algorithm is available.\n",
              "1    Machine learning is closely related to computational statistics, which focuses on making predictions using computers.The study of mathematical optimization delivers methods, theory and application domains to the field of machine learning.                                                                                                                 \n",
              "2    Machine learning involves computers discovering how they can perform tasks without being explicitly programmed to do so. It involves computers learning from data provided so that they carry out certain tasks.                                                                                                                                               \n",
              "3    Machine learning approaches are traditionally divided into three broad categories, depending on the nature of the \"signal\"or \"feedback\" available to the learning system: Supervised, Unsupervised and Reinforcement                                                                                                                                           \n",
              "4    Software engineering is the systematic application of engineering approaches to the development of software.Software engineering is a computing discipline.                                                                                                                                                                                                    \n",
              "5    A software engineer creates programs based on logic for the computer to execute. A software engineer has to be more concernedabout the correctness of the program in all the cases. Meanwhile, a data scientist is comfortable with uncertainty and variability.                                                                                               \n",
              "Name: documents, dtype: object"
            ]
          },
          "metadata": {
            "tags": []
          },
          "execution_count": 63
        }
      ]
    },
    {
      "cell_type": "code",
      "metadata": {
        "id": "FgMmPQx7o5ny"
      },
      "source": [
        "pairwise_similarities_5=cosine_similarity(document_embeddings)\n",
        "pairwise_differences_5=euclidean_distances(document_embeddings)\n",
        "normed_matrix_5 = normalize(pairwise_differences_5, axis=1, norm='l1')"
      ],
      "execution_count": null,
      "outputs": []
    },
    {
      "cell_type": "code",
      "metadata": {
        "colab": {
          "base_uri": "https://localhost:8080/",
          "height": 324
        },
        "id": "W7OCbYUohwlG",
        "outputId": "fcfccd17-36b2-405a-f2ef-dca1ef447b75"
      },
      "source": [
        "import seaborn as sns\n",
        "import matplotlib.pyplot as plt\n",
        "fig, ax = plt.subplots(figsize=(5,5)) \n",
        "ax_blue = sns.heatmap(pairwise_similarities_5, cmap=\"YlGnBu\")"
      ],
      "execution_count": null,
      "outputs": [
        {
          "output_type": "display_data",
          "data": {
            "image/png": "[encoded data removed]",
            "text/plain": [
              "<Figure size 360x360 with 2 Axes>"
            ]
          },
          "metadata": {
            "tags": [],
            "needs_background": "light"
          }
        }
      ]
    },
    {
      "cell_type": "code",
      "metadata": {
        "id": "rxTbcS-SwTrD",
        "colab": {
          "base_uri": "https://localhost:8080/",
          "height": 323
        },
        "outputId": "b1361d04-94c4-432b-f046-221fcceb0db7"
      },
      "source": [
        "import seaborn as sns\n",
        "import matplotlib.pyplot as plt\n",
        "fig, ax = plt.subplots(figsize=(5,5)) \n",
        "ax_blue = sns.heatmap(normed_matrix_5, cmap=\"YlGnBu\")"
      ],
      "execution_count": null,
      "outputs": [
        {
          "output_type": "display_data",
          "data": {
            "image/png": "[encoded data removed]",
            "text/plain": [
              "<Figure size 360x360 with 2 Axes>"
            ]
          },
          "metadata": {
            "tags": [],
            "needs_background": "light"
          }
        }
      ]
    },
    {
      "cell_type": "code",
      "metadata": {
        "colab": {
          "base_uri": "https://localhost:8080/",
          "height": 324
        },
        "id": "_jF2BfFSagcM",
        "outputId": "8b5275d5-a672-4ee6-e655-2a6ff3eb3a32"
      },
      "source": [
        "import seaborn as sns\n",
        "import matplotlib.pyplot as plt\n",
        "fig, ax = plt.subplots(figsize=(5,5)) \n",
        "ax_blue = sns.heatmap(pairwise_similarities, cmap=\"YlGnBu\")"
      ],
      "execution_count": null,
      "outputs": [
        {
          "output_type": "display_data",
          "data": {
            "image/png": "[encoded data removed]",
            "text/plain": [
              "<Figure size 360x360 with 2 Axes>"
            ]
          },
          "metadata": {
            "tags": [],
            "needs_background": "light"
          }
        }
      ]
    },
    {
      "cell_type": "code",
      "metadata": {
        "colab": {
          "base_uri": "https://localhost:8080/",
          "height": 324
        },
        "id": "84KOhD2NYPCq",
        "outputId": "26262102-2f6f-4d85-dda3-88a6ec430466"
      },
      "source": [
        "import seaborn as sns\n",
        "import matplotlib.pyplot as plt\n",
        "fig, ax = plt.subplots(figsize=(5,5)) \n",
        "ax_blue = sns.heatmap(pairwise_similarities, cmap=\"YlGnBu\")"
      ],
      "execution_count": null,
      "outputs": [
        {
          "output_type": "display_data",
          "data": {
            "image/png": "[encoded data removed]",
            "text/plain": [
              "<Figure size 360x360 with 2 Axes>"
            ]
          },
          "metadata": {
            "tags": [],
            "needs_background": "light"
          }
        }
      ]
    },
    {
      "cell_type": "code",
      "metadata": {
        "colab": {
          "base_uri": "https://localhost:8080/"
        },
        "id": "K8jlwGz3o7mv",
        "outputId": "692f2440-0d33-498c-cc0d-471f2adb009f"
      },
      "source": [
        "most_similar(0,pairwise_similarities,'Cosine Similarity')"
      ],
      "execution_count": null,
      "outputs": [
        {
          "output_type": "stream",
          "text": [
            "Document: Machine learning is the study of computer algorithms that improve automatically through experience.Machine learning algorithms build a mathematical model based on sample data, known as training data.The discipline of machine learning employs various approaches to teach computers to accomplish tasks where no fully satisfactory algorithm is available.\n",
            "\n",
            "\n",
            "Similar Documents using Cosine Similarity:\n",
            "\n",
            "\n",
            "Document: Machine learning is closely related to computational statistics, which focuses on making predictions using computers.The study of mathematical optimization delivers methods, theory and application domains to the field of machine learning.\n",
            "Cosine Similarity : 0.8365411162376404\n",
            "\n",
            "\n",
            "Document: A software engineer creates programs based on logic for the computer to execute. A software engineer has to be more concernedabout the correctness of the program in all the cases. Meanwhile, a data scientist is comfortable with uncertainty and variability.\n",
            "Cosine Similarity : 0.7580431699752808\n",
            "\n",
            "\n",
            "Document: Software engineering is the systematic application of engineering approaches to the development of software.Software engineering is a computing discipline.\n",
            "Cosine Similarity : 0.6589277982711792\n",
            "\n",
            "\n",
            "Document: Machine learning involves computers discovering how they can perform tasks without being explicitly programmed to do so. It involves computers learning from data provided so that they carry out certain tasks.\n",
            "Cosine Similarity : 0.611810564994812\n",
            "\n",
            "\n",
            "Document: Machine learning approaches are traditionally divided into three broad categories, depending on the nature of the \"signal\"or \"feedback\" available to the learning system: Supervised, Unsupervised and Reinforcement\n",
            "Cosine Similarity : 0.47647809982299805\n"
          ],
          "name": "stdout"
        }
      ]
    },
    {
      "cell_type": "code",
      "metadata": {
        "colab": {
          "base_uri": "https://localhost:8080/"
        },
        "id": "neuyIUs3o9Sc",
        "outputId": "fc9f1a37-c7b2-4774-c9e5-ed366ac43242"
      },
      "source": [
        "most_similar(0,pairwise_differences,'Euclidean Distance')"
      ],
      "execution_count": null,
      "outputs": [
        {
          "output_type": "stream",
          "text": [
            "Document: Machine learning is the study of computer algorithms that improve automatically through experience.Machine learning algorithms build a mathematical model based on sample data, known as training data.The discipline of machine learning employs various approaches to teach computers to accomplish tasks where no fully satisfactory algorithm is available.\n",
            "\n",
            "\n",
            "Similar Documents using Euclidean Distance:\n",
            "\n",
            "\n",
            "Document: Machine learning is closely related to computational statistics, which focuses on making predictions using computers.The study of mathematical optimization delivers methods, theory and application domains to the field of machine learning.\n",
            "Euclidean Distance : 9.360411643981934\n",
            "\n",
            "\n",
            "Document: A software engineer creates programs based on logic for the computer to execute. A software engineer has to be more concernedabout the correctness of the program in all the cases. Meanwhile, a data scientist is comfortable with uncertainty and variability.\n",
            "Euclidean Distance : 11.147295951843262\n",
            "\n",
            "\n",
            "Document: Software engineering is the systematic application of engineering approaches to the development of software.Software engineering is a computing discipline.\n",
            "Euclidean Distance : 13.602811813354492\n",
            "\n",
            "\n",
            "Document: Machine learning involves computers discovering how they can perform tasks without being explicitly programmed to do so. It involves computers learning from data provided so that they carry out certain tasks.\n",
            "Euclidean Distance : 14.060440063476562\n",
            "\n",
            "\n",
            "Document: Machine learning approaches are traditionally divided into three broad categories, depending on the nature of the \"signal\"or \"feedback\" available to the learning system: Supervised, Unsupervised and Reinforcement\n",
            "Euclidean Distance : 16.09708023071289\n"
          ],
          "name": "stdout"
        }
      ]
    },
    {
      "cell_type": "markdown",
      "metadata": {
        "id": "2dLXbj7DRmyk"
      },
      "source": [
        "### Procedia Paper"
      ]
    },
    {
      "cell_type": "code",
      "metadata": {
        "id": "E9F0vg0SQ_JL"
      },
      "source": [
        "import nltk\n",
        "nltk.download('punkt')\n",
        "nltk.download('averaged_perceptron_tagger') "
      ],
      "execution_count": null,
      "outputs": []
    },
    {
      "cell_type": "code",
      "metadata": {
        "id": "572QUGLCRpmE"
      },
      "source": [
        "def findNouns(str):\n",
        "  is_noun = lambda pos: pos[:2] == 'NN'\n",
        "  # do the nlp stuff\n",
        "  tokenized = nltk.word_tokenize(str)\n",
        "  nouns = [word for (word, pos) in nltk.pos_tag(tokenized) if is_noun(pos)]\n",
        "  return nouns \n",
        "\n",
        "def sharedWords(list1,list2):\n",
        "  list1s = set(list1)\n",
        "  shared = list1s.intersection(list2)\n",
        "  return shared \n",
        "\n",
        "def findsharedAmount(nt,C):\n",
        "  m=0\n",
        "  for i in nt:\n",
        "    if i in C:\n",
        "      m+= len(i)\n",
        "      print(i)\n",
        "  return m\n",
        "\n",
        "def defthreshold(C):\n",
        "  m=0\n",
        "  for i in C:\n",
        "    m+=len(i)\n",
        "  return m\n",
        "\n",
        "def generateflags(Ft,nt,C):\n",
        "  for i in range(len(nt)):\n",
        "    if nt[i] in C:\n",
        "      Ft[i]=True\n",
        "  return Ft\n",
        "\n",
        "def findIsolatedFalse(nt,Ft):\n",
        "  for i in range(len(Ft)-2):\n",
        "    x=Ft[i:i+3]\n",
        "    if x[1]==False and x[0] ==True and x[2]==True:\n",
        "      x[1]=True\n",
        "      Ft[i:i+3] = x\n",
        "      nt[i+1]='#'\n",
        "  \n",
        "  return nt,Ft\n",
        "\n",
        "def remove_isolatedtrue(nr,Fr,M):\n",
        "  x=0\n",
        "  pp = 0\n",
        "  i = 0\n",
        "  while(i<len(Fr)):\n",
        "    if Fr[i]==True:\n",
        "      x=0\n",
        "      x = x+len(nr[i])\n",
        "      for j in range(i+1,len(Fr)):\n",
        "        if Fr[j]==True:\n",
        "          #print(j)\n",
        "          x = x+ len(nr[j])\n",
        "          pp = j\n",
        "        else:\n",
        "          break\n",
        "      \n",
        "      if (pp==len(Fr)-1):\n",
        "        break\n",
        "      if (x<M):\n",
        "        #print(i, pp)\n",
        "        for k in range(i,pp+1):\n",
        "          Fr[k]=False\n",
        "        i = pp\n",
        "    i = i+1\n",
        "\n",
        "  return Fr, nr\n",
        "\n",
        "def compress(nr,Fr,M):\n",
        "  nrc = []\n",
        "  i = 0\n",
        "\n",
        "  while(i< len(Fr)):\n",
        "    if (Fr[i]==False and i==0):\n",
        "      for j in range(i+1, len(Fr)):\n",
        "        if(Fr[j]==False):\n",
        "          i = j\n",
        "    elif (Fr[i]==True):\n",
        "      nrc.append(nr[i])\n",
        "    elif (Fr[i]==False):\n",
        "      for j in range(i+1, len(Fr)):\n",
        "        if(Fr[j]==False):\n",
        "          i = j\n",
        "      nrc.append(\" \")\n",
        "    i = i+1\n",
        "  \n",
        "  return nrc\n",
        "\n",
        "def shift_compare(a, b, M):\n",
        "  plset = []\n",
        "  for size in range(0,len(a)+1):\n",
        "    #print(size)\n",
        "    i = len(a) - size \n",
        "    j = 0\n",
        "    final = np.ones(size) * -1\n",
        "\n",
        "    while(i<len(a) and j < size and j < len(b)):\n",
        "      #print(a[i], b[j], a[i]=='#' or b[j]=='#')\n",
        "      if(a[i]=='#' and b[j]=='#'):\n",
        "        final[j]= 0\n",
        "      elif (a[i]=='#'):\n",
        "        final[j] = len(b[j])\n",
        "      elif (b[j] =='#'):\n",
        "        final[j] = len(a[i])\n",
        "      elif (a[i]==b[j]):\n",
        "        final[j] = len(a[i])\n",
        "      \n",
        "      j = j+1\n",
        "      i = i+1\n",
        "    \n",
        "    i = 0\n",
        "    while(i<len(final)):\n",
        "      t = 0\n",
        "      start = -1\n",
        "      stop = -1\n",
        "      if(final[i]>=0):\n",
        "        start = i\n",
        "        stop = i\n",
        "        t = t + final[i]\n",
        "\n",
        "        for j in range(i+1, len(final)):\n",
        "          if(final[j]>=0):\n",
        "            t = t + final[j]\n",
        "            stop = j\n",
        "          else:\n",
        "            i = j\n",
        "            break\n",
        "      if(t>M):\n",
        "        #print(\"got one\")\n",
        "        plset.append([a[start:stop],t])\n",
        "      \n",
        "      i = i+1\n",
        "\n",
        "\n",
        "  return plset"
      ],
      "execution_count": null,
      "outputs": []
    },
    {
      "cell_type": "code",
      "metadata": {
        "id": "5HYxCbI_RvUC"
      },
      "source": [
        "def similarity(target,references):\n",
        "  nt = findNouns(target)\n",
        "  nr = findNouns(references)\n",
        "  print(nt,nr)\n",
        "  sharedC = sharedWords(nt,nr)\n",
        "  print(sharedC)\n",
        "  mt = findsharedAmount(nt,sharedC) \n",
        "  mr = findsharedAmount(nr,sharedC)\n",
        "  print(mt,mr)\n",
        "  threshold = defthreshold(sharedC)\n",
        "  print(defthreshold(sharedC))\n",
        "  check= mt>=threshold or mr >=threshold\n",
        "  print(check)\n",
        "\n",
        "  Ft = [False]*len(nt)\n",
        "  Fr = [False]*len(nr)\n",
        "\n",
        "  Ft = generateflags(Ft,nt,sharedC)\n",
        "  Fr = generateflags(Fr,nr,sharedC)\n",
        "\n",
        "  nt,Ft = findIsolatedFalse(nt,Ft)\n",
        "  nr,Fr = findIsolatedFalse(nr,Fr)\n",
        "\n",
        "  Fr1,nr1 = remove_isolatedtrue(nr.copy(),Fr.copy(),threshold)\n",
        "  Ft1,nt1 = remove_isolatedtrue(nt.copy(),Ft.copy(),threshold)\n",
        "\n",
        "  nrc = compress(nr1,Fr1,threshold)\n",
        "  ntc = compress(nt1,Ft1,threshold)\n",
        "\n",
        "  copy = shift_compare(nrc, ntc, threshold)\n",
        "  print(copy)\n",
        "  csets = set()\n",
        "  for i in range(0, len(copy)):\n",
        "    csets = csets.union(set(copy[i][0]))\n",
        "\n",
        "\n",
        "  absent = set(ntc).difference(csets)\n",
        "\n",
        "  l0 = 0 \n",
        "  l = 0\n",
        "\n",
        "  for i in ntc:\n",
        "    l = l + len(i)\n",
        "\n",
        "  for i in absent:\n",
        "    l0 = l0 + len(i)\n",
        "\n",
        "  try:\n",
        "    print(\"Plagiarism percentage = {}\".format((l-l0)/l))\n",
        "  except:\n",
        "    print(\"Plagiarism percentage = {}\".format(1-1))"
      ],
      "execution_count": null,
      "outputs": []
    },
    {
      "cell_type": "code",
      "metadata": {
        "colab": {
          "base_uri": "https://localhost:8080/"
        },
        "id": "QP-3gzE3R08r",
        "outputId": "50ff349b-23f1-426a-e309-362374500d9d"
      },
      "source": [
        "similarity(documents_df['documents_cleaned'])"
      ],
      "execution_count": 147,
      "outputs": [
        {
          "output_type": "stream",
          "text": [
            "[[1.   0.85 0.7  0.5  0.5  0.3 ]\n",
            " [0.85 1.   0.7  0.6  0.45 0.4 ]\n",
            " [0.7  0.7  1.   0.6  0.5  0.4 ]\n",
            " [0.5  0.6  0.6  1.   0.54 0.45]\n",
            " [0.5  0.45 0.5  0.54 1.   0.8 ]\n",
            " [0.3  0.4  0.4  0.45 0.8  1.  ]]\n"
          ],
          "name": "stdout"
        }
      ]
    },
    {
      "cell_type": "code",
      "metadata": {
        "colab": {
          "base_uri": "https://localhost:8080/",
          "height": 342
        },
        "id": "fhKu7HagR1v2",
        "outputId": "230db77a-0a68-4ab4-da8a-1a9ac77e8d0b"
      },
      "source": [
        "from array import *\n",
        "#x = np.array([[1,0.85,0.7,0.5,0.65,0.4],[0,85,1,0.7,0.4,0.55,0.45],[0.7,0.7,1,0.6,0.5],[0.65,0.55,0.6,1,0.8],[0.4,0.45,0.5,0.8,1]])\n",
        "x = np.array([1,0.85,0.7,0.5,0.5,0.3,\n",
        "              0.85,1,0.7,0.6,0.45,0.4,\n",
        "              0.7,0.7,1,0.6,0.5,0.4,\n",
        "              0.5,0.6,0.6,1,0.54,0.45,\n",
        "              0.5,0.45,0.5,0.54,1,0.8,\n",
        "              0.3,0.4,0.4,0.45,0.8,1])\n",
        "print(x.shape)\n",
        "x = x.reshape(6,6)\n",
        "import seaborn as sns\n",
        "import matplotlib.pyplot as plt\n",
        "fig, ax = plt.subplots(figsize=(5,5)) \n",
        "ax_blue = sns.heatmap(x, cmap=\"YlGnBu\")"
      ],
      "execution_count": 148,
      "outputs": [
        {
          "output_type": "stream",
          "text": [
            "(36,)\n"
          ],
          "name": "stdout"
        },
        {
          "output_type": "display_data",
          "data": {
            "image/png": "[encoded data removed]",
            "text/plain": [
              "<Figure size 360x360 with 2 Axes>"
            ]
          },
          "metadata": {
            "tags": [],
            "needs_background": "light"
          }
        }
      ]
    }
  ]
}